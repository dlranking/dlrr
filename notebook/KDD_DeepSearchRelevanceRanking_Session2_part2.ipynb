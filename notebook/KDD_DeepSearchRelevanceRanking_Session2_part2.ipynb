{
  "cells": [
    {
      "cell_type": "markdown",
      "source": [
        "#### Welcome to Session II : Saimese Network 😃!"
      ],
      "metadata": {
        "id": "jN8S4xdhviiy"
      },
      "id": "jN8S4xdhviiy"
    },
    {
      "cell_type": "markdown",
      "source": [
        "##### Let's get data and install transformers"
      ],
      "metadata": {
        "id": "9ysbRy5Cv7RF"
      },
      "id": "9ysbRy5Cv7RF"
    },
    {
      "cell_type": "code",
      "execution_count": null,
      "id": "7f5b779e",
      "metadata": {
        "colab": {
          "base_uri": "https://localhost:8080/"
        },
        "id": "7f5b779e",
        "outputId": "d4e3bf00-5f60-4554-b7c3-fcb0552d8dc5"
      },
      "outputs": [
        {
          "output_type": "stream",
          "name": "stdout",
          "text": [
            "Looking in indexes: https://pypi.org/simple, https://us-python.pkg.dev/colab-wheels/public/simple/\n",
            "Requirement already satisfied: datasets in /usr/local/lib/python3.7/dist-packages (2.3.2)\n",
            "Requirement already satisfied: transformers in /usr/local/lib/python3.7/dist-packages (4.20.1)\n",
            "Requirement already satisfied: importlib-metadata in /usr/local/lib/python3.7/dist-packages (from datasets) (4.11.4)\n",
            "Requirement already satisfied: multiprocess in /usr/local/lib/python3.7/dist-packages (from datasets) (0.70.13)\n",
            "Requirement already satisfied: pyarrow>=6.0.0 in /usr/local/lib/python3.7/dist-packages (from datasets) (6.0.1)\n",
            "Requirement already satisfied: dill<0.3.6 in /usr/local/lib/python3.7/dist-packages (from datasets) (0.3.5.1)\n",
            "Requirement already satisfied: requests>=2.19.0 in /usr/local/lib/python3.7/dist-packages (from datasets) (2.23.0)\n",
            "Requirement already satisfied: pandas in /usr/local/lib/python3.7/dist-packages (from datasets) (1.3.5)\n",
            "Requirement already satisfied: numpy>=1.17 in /usr/local/lib/python3.7/dist-packages (from datasets) (1.21.6)\n",
            "Requirement already satisfied: aiohttp in /usr/local/lib/python3.7/dist-packages (from datasets) (3.8.1)\n",
            "Requirement already satisfied: huggingface-hub<1.0.0,>=0.1.0 in /usr/local/lib/python3.7/dist-packages (from datasets) (0.8.1)\n",
            "Requirement already satisfied: tqdm>=4.62.1 in /usr/local/lib/python3.7/dist-packages (from datasets) (4.64.0)\n",
            "Requirement already satisfied: xxhash in /usr/local/lib/python3.7/dist-packages (from datasets) (3.0.0)\n",
            "Requirement already satisfied: packaging in /usr/local/lib/python3.7/dist-packages (from datasets) (21.3)\n",
            "Requirement already satisfied: responses<0.19 in /usr/local/lib/python3.7/dist-packages (from datasets) (0.18.0)\n",
            "Requirement already satisfied: fsspec[http]>=2021.05.0 in /usr/local/lib/python3.7/dist-packages (from datasets) (2022.5.0)\n",
            "Requirement already satisfied: filelock in /usr/local/lib/python3.7/dist-packages (from huggingface-hub<1.0.0,>=0.1.0->datasets) (3.7.1)\n",
            "Requirement already satisfied: pyyaml>=5.1 in /usr/local/lib/python3.7/dist-packages (from huggingface-hub<1.0.0,>=0.1.0->datasets) (6.0)\n",
            "Requirement already satisfied: typing-extensions>=3.7.4.3 in /usr/local/lib/python3.7/dist-packages (from huggingface-hub<1.0.0,>=0.1.0->datasets) (4.1.1)\n",
            "Requirement already satisfied: pyparsing!=3.0.5,>=2.0.2 in /usr/local/lib/python3.7/dist-packages (from packaging->datasets) (3.0.9)\n",
            "Requirement already satisfied: urllib3!=1.25.0,!=1.25.1,<1.26,>=1.21.1 in /usr/local/lib/python3.7/dist-packages (from requests>=2.19.0->datasets) (1.25.11)\n",
            "Requirement already satisfied: chardet<4,>=3.0.2 in /usr/local/lib/python3.7/dist-packages (from requests>=2.19.0->datasets) (3.0.4)\n",
            "Requirement already satisfied: certifi>=2017.4.17 in /usr/local/lib/python3.7/dist-packages (from requests>=2.19.0->datasets) (2022.6.15)\n",
            "Requirement already satisfied: idna<3,>=2.5 in /usr/local/lib/python3.7/dist-packages (from requests>=2.19.0->datasets) (2.10)\n",
            "Requirement already satisfied: regex!=2019.12.17 in /usr/local/lib/python3.7/dist-packages (from transformers) (2022.6.2)\n",
            "Requirement already satisfied: tokenizers!=0.11.3,<0.13,>=0.11.1 in /usr/local/lib/python3.7/dist-packages (from transformers) (0.12.1)\n",
            "Requirement already satisfied: frozenlist>=1.1.1 in /usr/local/lib/python3.7/dist-packages (from aiohttp->datasets) (1.3.0)\n",
            "Requirement already satisfied: multidict<7.0,>=4.5 in /usr/local/lib/python3.7/dist-packages (from aiohttp->datasets) (6.0.2)\n",
            "Requirement already satisfied: async-timeout<5.0,>=4.0.0a3 in /usr/local/lib/python3.7/dist-packages (from aiohttp->datasets) (4.0.2)\n",
            "Requirement already satisfied: yarl<2.0,>=1.0 in /usr/local/lib/python3.7/dist-packages (from aiohttp->datasets) (1.7.2)\n",
            "Requirement already satisfied: attrs>=17.3.0 in /usr/local/lib/python3.7/dist-packages (from aiohttp->datasets) (21.4.0)\n",
            "Requirement already satisfied: aiosignal>=1.1.2 in /usr/local/lib/python3.7/dist-packages (from aiohttp->datasets) (1.2.0)\n",
            "Requirement already satisfied: asynctest==0.13.0 in /usr/local/lib/python3.7/dist-packages (from aiohttp->datasets) (0.13.0)\n",
            "Requirement already satisfied: charset-normalizer<3.0,>=2.0 in /usr/local/lib/python3.7/dist-packages (from aiohttp->datasets) (2.0.12)\n",
            "Requirement already satisfied: zipp>=0.5 in /usr/local/lib/python3.7/dist-packages (from importlib-metadata->datasets) (3.8.0)\n",
            "Requirement already satisfied: pytz>=2017.3 in /usr/local/lib/python3.7/dist-packages (from pandas->datasets) (2022.1)\n",
            "Requirement already satisfied: python-dateutil>=2.7.3 in /usr/local/lib/python3.7/dist-packages (from pandas->datasets) (2.8.2)\n",
            "Requirement already satisfied: six>=1.5 in /usr/local/lib/python3.7/dist-packages (from python-dateutil>=2.7.3->pandas->datasets) (1.15.0)\n"
          ]
        }
      ],
      "source": [
        "! pip install datasets transformers\n",
        "# !pip install torch==1.5.0"
      ]
    },
    {
      "cell_type": "code",
      "execution_count": null,
      "id": "7397a467",
      "metadata": {
        "id": "7397a467"
      },
      "outputs": [],
      "source": [
        "# import tensorflow as tf\n",
        "# tf.test.gpu_device_name()\n",
        "#!/usr/bin/env python\n",
        "# coding: utf-8\n",
        "import numpy as np\n",
        "import pandas as pd\n",
        "import torch\n",
        "import os\n",
        "import pickle\n",
        "import time\n",
        "from matplotlib import pyplot as plt\n",
        "\n",
        "import torch\n",
        "from torch.utils.data import TensorDataset, DataLoader, SequentialSampler\n",
        "from transformers import AutoTokenizer, AutoModel, AdamW, AutoConfig, get_linear_schedule_with_warmup\n",
        "device = torch.device(\"cuda:0\" if torch.cuda.is_available() else \"cpu\")"
      ]
    },
    {
      "cell_type": "markdown",
      "source": [
        "#### load positive, negative pairs for training and validations "
      ],
      "metadata": {
        "id": "5__Ov7L46Z2u"
      },
      "id": "5__Ov7L46Z2u"
    },
    {
      "cell_type": "code",
      "execution_count": null,
      "id": "e44ce79c",
      "metadata": {
        "id": "e44ce79c"
      },
      "outputs": [],
      "source": [
        "similar_train_pairs = pd.read_csv('triplet.csv')\n",
        "\n",
        "similar_valid_pairs = pd.read_csv('val_triplet.csv')\n",
        "\n",
        "len(similar_train_pairs)\n",
        "\n",
        "len(similar_valid_pairs)"
      ]
    },
    {
      "cell_type": "code",
      "execution_count": null,
      "id": "c1d96525",
      "metadata": {
        "id": "c1d96525"
      },
      "outputs": [],
      "source": [
        "# import numpy as np\n",
        "# similar_train_pairs.head(2)"
      ]
    },
    {
      "cell_type": "code",
      "execution_count": null,
      "id": "617f3569",
      "metadata": {
        "id": "617f3569",
        "colab": {
          "base_uri": "https://localhost:8080/",
          "height": 113,
          "referenced_widgets": [
            "e759e52ac31d482097729bb72592c6ab",
            "b0555bc406c6402288287211f4ba98ce",
            "1699666da7884f24a61de2392508c786",
            "6340959ba4224cbba932502ba00b6b01",
            "ee2c0a74ebdb4a38bbc579084912ee40",
            "8d5479ed048c49c5b73d4e6f937ac049",
            "d84477b020484b04abac3cfe3b9d4c00",
            "0f0fd07f18f14d128c747609226460ab",
            "c44172996cd14c9aa06c7dd36a098a8d",
            "793bf25388f049dbbd2317f49192ccf8",
            "30c49907b2dd428e92c3f797104cc18b",
            "ad69269bd7924ce9992225dd9366805f",
            "8bfda8db80834d05ac03e0c6652a4154",
            "894bd63e5dea44e5a58f6de78e2efd7a",
            "06cb2af5a1f4450e97e7127bbbf29e60",
            "9b7f7193c3a14685ae3ca675add8c61b",
            "44285a7623f6444abb291f6ba3db5c66",
            "f76bb42571424c698318653219ab77ae",
            "b4eacfbcf7664a2cabace138b2cc1e43",
            "6e7367f9c6c54621861fa79511804035",
            "e98457d292d346419208a9240be99136",
            "ab603b4fd262430fa98c53c3d673901b",
            "d7c888ab358249f0b03c79abb56d3d8b",
            "4755274ac6754cacb527d353bb8cf74f",
            "4b956e8ab1474e30b28e36a58ff0da4a",
            "a47fccbc623842828decf67f41ee8b34",
            "adce8f1145684569a1ca4dc892b874ce",
            "9edf19ce11f84537adbeae865fbc4fc8",
            "f3acf37e3cbe459b92ad5260d2f2ab57",
            "0c0738455b05449f90c60dfaed77baca",
            "9b6228e403f74810ba2122e462a69c7a",
            "341aef3223c54e7e8e60dc4811a2b329",
            "dce5b423a74643e08a0cf1ae510db6e2"
          ]
        },
        "outputId": "3606ae24-f06f-482c-f92d-14fe9be770a5"
      },
      "outputs": [
        {
          "output_type": "display_data",
          "data": {
            "text/plain": [
              "Downloading:   0%|          | 0.00/28.0 [00:00<?, ?B/s]"
            ],
            "application/vnd.jupyter.widget-view+json": {
              "version_major": 2,
              "version_minor": 0,
              "model_id": "e759e52ac31d482097729bb72592c6ab"
            }
          },
          "metadata": {}
        },
        {
          "output_type": "display_data",
          "data": {
            "text/plain": [
              "Downloading:   0%|          | 0.00/226k [00:00<?, ?B/s]"
            ],
            "application/vnd.jupyter.widget-view+json": {
              "version_major": 2,
              "version_minor": 0,
              "model_id": "ad69269bd7924ce9992225dd9366805f"
            }
          },
          "metadata": {}
        },
        {
          "output_type": "display_data",
          "data": {
            "text/plain": [
              "Downloading:   0%|          | 0.00/455k [00:00<?, ?B/s]"
            ],
            "application/vnd.jupyter.widget-view+json": {
              "version_major": 2,
              "version_minor": 0,
              "model_id": "d7c888ab358249f0b03c79abb56d3d8b"
            }
          },
          "metadata": {}
        }
      ],
      "source": [
        "tokenizer = AutoTokenizer.from_pretrained('bert-base-uncased')\n",
        "train_anchors = list(similar_train_pairs['anchor'])\n",
        "train_positives = list(similar_train_pairs['positive'])\n",
        "train_negatives = list(similar_train_pairs['negative'])\n",
        "max_length = 35\n",
        "\n",
        "train_anchor_ids = [tokenizer.encode(text, max_length=max_length, truncation=True, padding='max_length') for text in train_anchors]\n",
        "train_positive_ids = [tokenizer.encode(text, max_length=max_length, truncation=True, padding='max_length') for text in train_positives]\n",
        "train_negative_ids = [tokenizer.encode(text, max_length=max_length, truncation=True, padding='max_length') for text in train_negatives]\n",
        "\n",
        "def get_masks(text_ids):\n",
        "    att_masks = []\n",
        "    for ids in text_ids:\n",
        "        masks = [int(id > 0) for id in ids]\n",
        "        att_masks.append(masks)\n",
        "    return att_masks\n",
        "\n",
        "train_att_masks_anchors = get_masks(train_anchor_ids)\n",
        "train_att_masks_positives = get_masks(train_positive_ids)  \n",
        "train_att_masks_negatives = get_masks(train_negative_ids)\n",
        "\n",
        "t_tanc = torch.tensor(train_anchor_ids)\n",
        "tm_tanc = torch.tensor(train_att_masks_anchors)\n",
        "t_tpos = torch.tensor(train_positive_ids)\n",
        "tm_tpos = torch.tensor(train_att_masks_positives)\n",
        "t_tneg = torch.tensor(train_negative_ids)\n",
        "tm_tneg = torch.tensor(train_att_masks_negatives)"
      ]
    },
    {
      "cell_type": "code",
      "execution_count": null,
      "id": "5dc07721",
      "metadata": {
        "id": "5dc07721",
        "colab": {
          "base_uri": "https://localhost:8080/",
          "height": 145,
          "referenced_widgets": [
            "72ad96b990c64ecda781ec42de5c836b",
            "59b19364270c450fbe47b8073f19c4e0",
            "6b012011dd4c4159b047dc438eb18eca",
            "27997f556acd4443a841143bfa72758c",
            "9552cd6626ff4ee8ba95b00ef100de19",
            "717ee546d6a8482c9f8afcd17211b69d",
            "4a0f0fd7ca1d48c8a2f0e17ccb91d03f",
            "4b59de63f6dc4fbfb470ac1a81665487",
            "75fac343c51449be8c369627235c3043",
            "edab704dec7a462f9059b63dd7cd654c",
            "f72815c2f7fe4d748b3d26aa216abe19",
            "00265c04c3104f148a27aff92455837b",
            "6cc9d6e7ba1849b089c087f6a65ff11b",
            "fcc9a4344fd44779aaeaaf85e84835d7",
            "fecc39a3d6ae4981bad0c5d0d10143e6",
            "d3d8704baca34839ad295aa97a909393",
            "13758f8a167f484a85949781a2abcf81",
            "83c7c028bef0456ba53968b782b742d3",
            "975104a0ff974a26a20362a35d2a0925",
            "3757a1c6276d4693896ca03bc07ee8d4",
            "215ec4349f6b49b490f86ebfcc06f316",
            "594ce41907a34fa396f4e20a0613b3c8",
            "353de9c802be4294bcbd1af2feecb18f",
            "4a4c0623dbc04e0ab95816418650347c",
            "23e4bdaa9f054068a1b61d14bc0084aa",
            "abfd95d402074952a4ce1606af9f9c66",
            "6e6b561a060b407d92f7038f69cf6776",
            "676e83fc581e4bb38425a5f0fb588b4c",
            "737c1c8d4d474cd08c049d070953011a",
            "a7999a2a34734bce953ac5a370bd7a35",
            "6d6154a8e9244347bb70075ce11bf9fa",
            "238bc3c6a39044799619a0b316b3549e",
            "032ea4150ed3411f9ceb4316fbfac78c",
            "146a084386504861806f131c2f1e54a0",
            "1b2c0226395146db987df2e228b0c9e7",
            "f111893b1a024a02970e3deb3a62eee5",
            "19ad1cc23afc460e96ed7376f05f0544",
            "6bc1fb2eb5d444528ba9eec66966012f",
            "301f8576f56345218c663207127ec863",
            "7444373d2f2f42c0b0cb4a6e61021247",
            "8e574fbb04504b238e9e47eece7fce93",
            "ae56a420bcee4fb8b66bd0fc1f42281c",
            "1723fd3020fe456eab09b714868ee8f2",
            "35b7923e771c4015818b030ebf78a9c0"
          ]
        },
        "outputId": "da591c73-6701-4d82-b754-1b89a7414a3f"
      },
      "outputs": [
        {
          "output_type": "display_data",
          "data": {
            "text/plain": [
              "Downloading:   0%|          | 0.00/28.0 [00:00<?, ?B/s]"
            ],
            "application/vnd.jupyter.widget-view+json": {
              "version_major": 2,
              "version_minor": 0,
              "model_id": "72ad96b990c64ecda781ec42de5c836b"
            }
          },
          "metadata": {}
        },
        {
          "output_type": "display_data",
          "data": {
            "text/plain": [
              "Downloading:   0%|          | 0.00/570 [00:00<?, ?B/s]"
            ],
            "application/vnd.jupyter.widget-view+json": {
              "version_major": 2,
              "version_minor": 0,
              "model_id": "00265c04c3104f148a27aff92455837b"
            }
          },
          "metadata": {}
        },
        {
          "output_type": "display_data",
          "data": {
            "text/plain": [
              "Downloading:   0%|          | 0.00/226k [00:00<?, ?B/s]"
            ],
            "application/vnd.jupyter.widget-view+json": {
              "version_major": 2,
              "version_minor": 0,
              "model_id": "353de9c802be4294bcbd1af2feecb18f"
            }
          },
          "metadata": {}
        },
        {
          "output_type": "display_data",
          "data": {
            "text/plain": [
              "Downloading:   0%|          | 0.00/455k [00:00<?, ?B/s]"
            ],
            "application/vnd.jupyter.widget-view+json": {
              "version_major": 2,
              "version_minor": 0,
              "model_id": "146a084386504861806f131c2f1e54a0"
            }
          },
          "metadata": {}
        }
      ],
      "source": [
        "tokenizer = AutoTokenizer.from_pretrained('bert-base-uncased')\n",
        "val_anchors = list(similar_valid_pairs['anchor'])\n",
        "val_positives = list(similar_valid_pairs['positive'])\n",
        "val_negatives = list(similar_valid_pairs['negative'])\n",
        "max_length = 35\n",
        "\n",
        "val_anchor_ids = [tokenizer.encode(text, max_length=max_length, truncation=True, padding='max_length') for text in val_anchors]\n",
        "val_positive_ids = [tokenizer.encode(text, max_length=max_length, truncation=True, padding='max_length') for text in val_positives]\n",
        "val_negative_ids = [tokenizer.encode(text, max_length=max_length, truncation=True, padding='max_length') for text in val_negatives]\n",
        "\n",
        "def get_masks(text_ids):\n",
        "    att_masks = []\n",
        "    for ids in text_ids:\n",
        "        masks = [int(id > 0) for id in ids]\n",
        "        att_masks.append(masks)\n",
        "    return att_masks\n",
        "\n",
        "val_att_masks_anchors = get_masks(val_anchor_ids)\n",
        "val_att_masks_positives = get_masks(val_positive_ids)  \n",
        "val_att_masks_negatives = get_masks(val_negative_ids)\n",
        "\n",
        "v_tanc = torch.tensor(val_anchor_ids)\n",
        "vm_tanc = torch.tensor(val_att_masks_anchors)\n",
        "v_tpos = torch.tensor(val_positive_ids)\n",
        "vm_tpos = torch.tensor(val_att_masks_positives)\n",
        "v_tneg = torch.tensor(val_negative_ids)\n",
        "vm_tneg = torch.tensor(val_att_masks_negatives)\n"
      ]
    },
    {
      "cell_type": "code",
      "source": [
        ""
      ],
      "metadata": {
        "id": "VvQC1bqJkPg3"
      },
      "id": "VvQC1bqJkPg3",
      "execution_count": null,
      "outputs": []
    },
    {
      "cell_type": "markdown",
      "source": [
        "#### create Model "
      ],
      "metadata": {
        "id": "_8WYCwlS6rHS"
      },
      "id": "_8WYCwlS6rHS"
    },
    {
      "cell_type": "code",
      "execution_count": null,
      "id": "42ffe596",
      "metadata": {
        "colab": {
          "base_uri": "https://localhost:8080/"
        },
        "id": "42ffe596",
        "outputId": "ff57a13d-9ce9-4fc6-eb23-d6ec67369572"
      },
      "outputs": [
        {
          "output_type": "stream",
          "name": "stderr",
          "text": [
            "Some weights of the model checkpoint at bert-base-uncased were not used when initializing BertModel: ['cls.predictions.transform.dense.bias', 'cls.predictions.transform.dense.weight', 'cls.predictions.transform.LayerNorm.weight', 'cls.predictions.bias', 'cls.seq_relationship.bias', 'cls.seq_relationship.weight', 'cls.predictions.transform.LayerNorm.bias', 'cls.predictions.decoder.weight']\n",
            "- This IS expected if you are initializing BertModel from the checkpoint of a model trained on another task or with another architecture (e.g. initializing a BertForSequenceClassification model from a BertForPreTraining model).\n",
            "- This IS NOT expected if you are initializing BertModel from the checkpoint of a model that you expect to be exactly identical (initializing a BertForSequenceClassification model from a BertForSequenceClassification model).\n",
            "/usr/local/lib/python3.7/dist-packages/transformers/optimization.py:310: FutureWarning: This implementation of AdamW is deprecated and will be removed in a future version. Use the PyTorch implementation torch.optim.AdamW instead, or set `no_deprecation_warning=True` to disable this warning\n",
            "  FutureWarning,\n"
          ]
        }
      ],
      "source": [
        "config = AutoConfig.from_pretrained('bert-base-uncased', hidden_dropout_prob=0.3, attention_probs_dropout_prob=0.2)\n",
        "encoder = AutoModel.from_pretrained('bert-base-uncased', config=config)\n",
        "\n",
        "\n",
        "class Model(torch.nn.Module):\n",
        "    def __init__(self, encoder, in_dim, out_dim):\n",
        "        super(Model, self).__init__()\n",
        "        self.encoder = encoder\n",
        "        self.fc = torch.nn.Sequential(torch.nn.Linear(in_dim, out_dim), torch.nn.Tanh()) \n",
        "        \n",
        "    def forward(self, x1, m1, x2, m2):\n",
        "        outputs_1 = self.encoder(x1, m1)\n",
        "        outputs_2 = self.encoder(x2, m2)\n",
        "        last_hidden_states_1 = outputs_1.last_hidden_state\n",
        "        last_hidden_states_2 = outputs_2.last_hidden_state\n",
        "        sentence_embeddings_1 = torch.mean(last_hidden_states_1, dim=1)\n",
        "        sentence_embeddings_1 = self.fc(sentence_embeddings_1)\n",
        "        sentence_embeddings_2 = torch.mean(last_hidden_states_2, dim=1)\n",
        "        sentence_embeddings_2 = self.fc(sentence_embeddings_2)\n",
        "        similarity = torch.cosine_similarity(sentence_embeddings_1, sentence_embeddings_2)\n",
        "        return similarity\n",
        "\n",
        "\n",
        "model = Model(encoder, 768, 128)\n",
        "model = model.to(device)\n",
        "\n",
        "\n",
        "model_loss = torch.nn.MarginRankingLoss(margin=0.3)\n",
        "\n",
        "\n",
        "adam_epsilon = 1e-8\n",
        "no_decay = ['bias', 'LayerNorm.weight']\n",
        "\n",
        "\n",
        "optimizer_grouped_parameters = [\n",
        "    {'params': [p for n, p in model.named_parameters() if not any(nd in n for nd in no_decay)],\n",
        "     'weight_decay_rate': 0.2},\n",
        "    {'params': [p for n, p in model.named_parameters() if any(nd in n for nd in no_decay)],\n",
        "     'weight_decay_rate': 0.0}\n",
        "]\n",
        "\n",
        "optimizer = AdamW(optimizer_grouped_parameters, lr=2e-5, eps=adam_epsilon)"
      ]
    },
    {
      "cell_type": "markdown",
      "source": [
        "### create train and validation DataLoader"
      ],
      "metadata": {
        "id": "y9e9YOKN6zYn"
      },
      "id": "y9e9YOKN6zYn"
    },
    {
      "cell_type": "code",
      "execution_count": null,
      "id": "86667c70",
      "metadata": {
        "id": "86667c70"
      },
      "outputs": [],
      "source": [
        "def epoch_time(start_time, end_time):\n",
        "    elapsed_time = end_time - start_time\n",
        "    elapsed_mins = int(elapsed_time / 60)\n",
        "    elapsed_secs = int(elapsed_time - (elapsed_mins * 60))\n",
        "    return elapsed_mins, elapsed_secs\n",
        "\n",
        "\n",
        "\n",
        "seed_val = 111\n",
        "np.random.seed(seed_val)\n",
        "torch.manual_seed(seed_val)\n",
        "\n",
        "\n",
        "train_data = TensorDataset(t_tanc, tm_tanc, t_tpos, tm_tpos, t_tneg, tm_tneg)\n",
        "train_dataloader = DataLoader(train_data, batch_size=100)\n",
        "\n",
        "\n",
        "val_data = TensorDataset(v_tanc, vm_tanc, v_tpos, vm_tpos, v_tneg, vm_tneg)\n",
        "val_dataloader = DataLoader(val_data,  batch_size=100)\n",
        "\n",
        "\n",
        "total_steps = len(train_dataloader) * 100\n",
        "scheduler = get_linear_schedule_with_warmup(optimizer, num_warmup_steps=0, num_training_steps=total_steps)\n",
        "num_mb_train = len(train_dataloader)\n",
        "num_mb_val = len(val_dataloader)\n",
        "if num_mb_val == 0:\n",
        "    num_mb_val = 1"
      ]
    },
    {
      "cell_type": "markdown",
      "source": [
        "#### Training and Save Model"
      ],
      "metadata": {
        "id": "rOyC1Js4wnjY"
      },
      "id": "rOyC1Js4wnjY"
    },
    {
      "cell_type": "code",
      "execution_count": null,
      "id": "5a89dfd7",
      "metadata": {
        "colab": {
          "base_uri": "https://localhost:8080/"
        },
        "id": "5a89dfd7",
        "outputId": "dcf4302a-68b3-4feb-9e5d-7e9e035ff694"
      },
      "outputs": [
        {
          "name": "stdout",
          "output_type": "stream",
          "text": [
            "53\n",
            "\n",
            "Train loss after iteration 1: 0.286331\n",
            "Validation loss after itaration 1: 0.261489\n",
            "Time: 12m 39s\n",
            "759.8412477970123\n",
            "53\n",
            "\n",
            "Train loss after iteration 2: 0.274361\n",
            "Validation loss after itaration 2: 0.256880\n",
            "Time: 12m 41s\n",
            "761.62482380867\n",
            "53\n",
            "\n",
            "Train loss after iteration 3: 0.265668\n",
            "Validation loss after itaration 3: 0.257517\n",
            "Time: 13m 5s\n",
            "785.2895040512085\n",
            "53\n",
            "\n",
            "Train loss after iteration 4: 0.258190\n",
            "Validation loss after itaration 4: 0.252471\n",
            "Time: 12m 40s\n",
            "760.3348052501678\n",
            "53\n",
            "\n",
            "Train loss after iteration 5: 0.248732\n",
            "Validation loss after itaration 5: 0.251322\n",
            "Time: 12m 9s\n",
            "729.4995489120483\n",
            "53\n",
            "\n",
            "Train loss after iteration 6: 0.241420\n",
            "Validation loss after itaration 6: 0.253178\n",
            "Time: 12m 9s\n",
            "729.8713965415955\n",
            "53\n",
            "\n",
            "Train loss after iteration 7: 0.232127\n",
            "Validation loss after itaration 7: 0.252520\n",
            "Time: 12m 43s\n",
            "763.6316256523132\n",
            "53\n",
            "\n",
            "Train loss after iteration 8: 0.223270\n",
            "Validation loss after itaration 8: 0.252807\n",
            "Time: 12m 14s\n",
            "734.1253497600555\n"
          ]
        }
      ],
      "source": [
        "# model.load_state_dict(torch.load('similarity_model4.pt'))\n",
        "# In[ ]:\n",
        "import time\n",
        "train_losses = []\n",
        "val_losses = []\n",
        "\n",
        "for n in range(8):\n",
        "    train_loss = 0\n",
        "    val_loss = 0\n",
        "    start_time = time.time()\n",
        "    \n",
        "    for k, (t_tanc, tm_tanc, t_tpos, tm_tpos, t_tneg, tm_tneg) in enumerate(train_dataloader):\n",
        "        #print(\"k=\",k,\"t_tanc=\",t_tanc,\"tm_tanc=\",tm_tanc)\n",
        "        optimizer.zero_grad()\n",
        "        model.train()\n",
        "        t_tanc = t_tanc.to(device)\n",
        "        tm_tanc = tm_tanc.to(device)\n",
        "        t_tpos = t_tpos.to(device)\n",
        "        tm_tpos = tm_tpos.to(device)\n",
        "        t_tneg = t_tneg.to(device)\n",
        "        tm_tneg = tm_tneg.to(device)\n",
        "        sim_1 = model(t_tanc, tm_tanc, t_tpos, tm_tpos)\n",
        "        sim_2 = model(t_tanc, tm_tanc, t_tneg, tm_tneg)\n",
        "        loss = model_loss(sim_1, sim_2, torch.ones_like(sim_1))\n",
        "        loss.backward()\n",
        "        torch.nn.utils.clip_grad_norm_(model.parameters(), 1.0)\n",
        "        optimizer.step()\n",
        "        scheduler.step()\n",
        "        train_loss += loss.data / num_mb_train\n",
        "        #print(\"train_losses=\",train_loss)\n",
        "    print(len(t_tanc))\n",
        "\n",
        "    print ('\\nTrain loss after iteration %i: %f' % (n+1, train_loss))\n",
        "    train_losses.append(train_loss.cpu())\n",
        "\n",
        "    \n",
        "    with torch.no_grad():\n",
        "        model.eval()\n",
        "        for k, (v_tanc, vm_tanc, v_tpos, vm_tpos, v_tneg, vm_tneg) in enumerate(val_dataloader):\n",
        "            v_tanc = v_tanc.to(device)\n",
        "            vm_tanc = vm_tanc.to(device)\n",
        "            v_tpos = v_tpos.to(device)\n",
        "            vm_tpos = vm_tpos.to(device)\n",
        "            v_tneg = v_tneg.to(device)\n",
        "            vm_tneg = vm_tneg.to(device)\n",
        "            sim_1 = model(v_tanc, vm_tanc, v_tpos, vm_tpos)\n",
        "            sim_2 = model(v_tanc, vm_tanc, v_tneg, vm_tneg)\n",
        "            loss = model_loss(sim_1, sim_2, torch.ones_like(sim_1))\n",
        "            val_loss += loss.data / num_mb_val \n",
        "        print (\"Validation loss after itaration %i: %f\" % (n+1, val_loss))\n",
        "        val_losses.append(val_loss.cpu())\n",
        "        \n",
        "    \n",
        "    end_time = time.time()\n",
        "    epoch_mins, epoch_secs = epoch_time(start_time, end_time)\n",
        "    print(f'Time: {epoch_mins}m {epoch_secs}s')\n",
        "    print(end_time-start_time)\n",
        "\n",
        "model_name='bert'\n",
        "triplettype = 'l2'\n",
        "model_save_path = './similarity_model-'+triplettype+'-'+model_name+'.pt'\n",
        "\n",
        "torch.save(model.state_dict(),  model_save_path)\n",
        "\n",
        "train_loss_df  = pd.DataFrame(train_losses)\n",
        "val_loss_df  = pd.DataFrame(val_losses)\n",
        "train_loss_df.to_csv(\"train_loss.csv\")\n",
        "val_loss_df.to_csv(\"val_loss.csv\")"
      ]
    },
    {
      "cell_type": "markdown",
      "source": [
        "#### Load saved trained model"
      ],
      "metadata": {
        "id": "qFR30p5BwvUT"
      },
      "id": "qFR30p5BwvUT"
    },
    {
      "cell_type": "code",
      "execution_count": null,
      "id": "171c4b46",
      "metadata": {
        "colab": {
          "base_uri": "https://localhost:8080/"
        },
        "id": "171c4b46",
        "outputId": "4c75aae8-c584-46d1-a7dd-4fe96229dd64"
      },
      "outputs": [
        {
          "output_type": "stream",
          "name": "stdout",
          "text": [
            "Drive already mounted at /content/gdrive; to attempt to forcibly remount, call drive.mount(\"/content/gdrive\", force_remount=True).\n"
          ]
        }
      ],
      "source": [
        "import os\n",
        "from google.colab import drive\n",
        "MOUNTPOINT = '/content/gdrive'\n",
        "DATADIR = os.path.join(MOUNTPOINT, 'My Drive', 'myfolder')\n",
        "drive.mount(MOUNTPOINT)"
      ]
    },
    {
      "cell_type": "code",
      "execution_count": null,
      "id": "ccc8547e",
      "metadata": {
        "id": "ccc8547e",
        "colab": {
          "base_uri": "https://localhost:8080/"
        },
        "outputId": "362580f5-0a35-4744-a924-059a2932219a"
      },
      "outputs": [
        {
          "output_type": "execute_result",
          "data": {
            "text/plain": [
              "device(type='cuda', index=0)"
            ]
          },
          "metadata": {},
          "execution_count": 5
        }
      ],
      "source": [
        "device\n"
      ]
    },
    {
      "cell_type": "code",
      "execution_count": null,
      "id": "8de87453",
      "metadata": {
        "id": "8de87453"
      },
      "outputs": [],
      "source": [
        "# !ls \"/content/gdrive/My Drive\""
      ]
    },
    {
      "cell_type": "code",
      "execution_count": null,
      "id": "5dc215b5",
      "metadata": {
        "colab": {
          "base_uri": "https://localhost:8080/"
        },
        "id": "5dc215b5",
        "outputId": "eae9f1c9-37fe-4c5a-c156-93d631e19518"
      },
      "outputs": [
        {
          "output_type": "stream",
          "name": "stderr",
          "text": [
            "Some weights of the model checkpoint at bert-base-uncased were not used when initializing BertModel: ['cls.predictions.transform.dense.bias', 'cls.predictions.transform.dense.weight', 'cls.predictions.transform.LayerNorm.weight', 'cls.predictions.bias', 'cls.seq_relationship.bias', 'cls.seq_relationship.weight', 'cls.predictions.transform.LayerNorm.bias', 'cls.predictions.decoder.weight']\n",
            "- This IS expected if you are initializing BertModel from the checkpoint of a model trained on another task or with another architecture (e.g. initializing a BertForSequenceClassification model from a BertForPreTraining model).\n",
            "- This IS NOT expected if you are initializing BertModel from the checkpoint of a model that you expect to be exactly identical (initializing a BertForSequenceClassification model from a BertForSequenceClassification model).\n"
          ]
        },
        {
          "output_type": "execute_result",
          "data": {
            "text/plain": [
              "<All keys matched successfully>"
            ]
          },
          "metadata": {},
          "execution_count": 8
        }
      ],
      "source": [
        "config = AutoConfig.from_pretrained('bert-base-uncased', hidden_dropout_prob=0.3, attention_probs_dropout_prob=0.2)\n",
        "encoder = AutoModel.from_pretrained('bert-base-uncased', config=config)\n",
        "\n",
        "model = Model(encoder, 768, 128)\n",
        "#model.load_state_dict(torch.load(\"/content/gdrive/My Drive/triplet/similarity_model-l2-bert.pt\",map_location=torch.device('cpu')))\n",
        "model.load_state_dict(torch.load(\"/content/gdrive/My Drive/triplet/similarity_model-l2-bert.pt\"))\n",
        "\n",
        "# model.eval()"
      ]
    },
    {
      "cell_type": "markdown",
      "source": [
        "#### Model validation performance "
      ],
      "metadata": {
        "id": "De4ut2kziVno"
      },
      "id": "De4ut2kziVno"
    },
    {
      "cell_type": "code",
      "source": [
        "from datasets import load_dataset, load_metric"
      ],
      "metadata": {
        "id": "xCArkxvCjmoG"
      },
      "id": "xCArkxvCjmoG",
      "execution_count": null,
      "outputs": []
    },
    {
      "cell_type": "code",
      "source": [
        "dataset = load_dataset('xglue', 'qadsm')"
      ],
      "metadata": {
        "colab": {
          "base_uri": "https://localhost:8080/",
          "height": 87,
          "referenced_widgets": [
            "e75088829f95435e917907c069103009",
            "f10a12ae1f2945bcb61b9d95d1730941",
            "ca0775c4404a496aab7964574dcc349d",
            "8141c555b96e4df88c506f584838f4b6",
            "c712a15cf4564a5195d326cdb456d13a",
            "21014587f1e641349b17ae4105a1ef59",
            "65045990d63243a3a9a30b1a6924eebf",
            "f7f5021691c64adfbb74ab45dc32f7a4",
            "852d78e413654683b745c14ec5998405",
            "35794e10d6ec4743a3b8d7450afc5cc4",
            "9d22c4ea22794e6c8b0d78832c706f6b"
          ]
        },
        "id": "sPCUAOEj2Jv6",
        "outputId": "23b8fd6b-f21e-4393-e137-7ff7bdd30bd1"
      },
      "id": "sPCUAOEj2Jv6",
      "execution_count": null,
      "outputs": [
        {
          "output_type": "stream",
          "name": "stderr",
          "text": [
            "Reusing dataset xglue (/root/.cache/huggingface/datasets/xglue/qadsm/1.0.0/8566eedecd9ab28e01c051c023dadf97bf408e5195f76b06aba70ebd4697ae08)\n"
          ]
        },
        {
          "output_type": "display_data",
          "data": {
            "text/plain": [
              "  0%|          | 0/7 [00:00<?, ?it/s]"
            ],
            "application/vnd.jupyter.widget-view+json": {
              "version_major": 2,
              "version_minor": 0,
              "model_id": "e75088829f95435e917907c069103009"
            }
          },
          "metadata": {}
        }
      ]
    },
    {
      "cell_type": "code",
      "source": [
        "tokenizer = AutoTokenizer.from_pretrained('bert-base-uncased')\n",
        "val_querys = dataset['validation.en']['query']\n",
        "val_adtitles = dataset['validation.en']['ad_title']\n",
        "max_length = 35\n",
        "\n",
        "val_query_ids = [tokenizer.encode(text, max_length=max_length, truncation=True, padding='max_length') for text in val_querys]\n",
        "val_adtitle_ids = [tokenizer.encode(text, max_length=max_length, truncation=True, padding='max_length') for text in val_adtitles]\n",
        "\n",
        "def get_masks(text_ids):\n",
        "    att_masks = []\n",
        "    for ids in text_ids:\n",
        "        masks = [int(id > 0) for id in ids]\n",
        "        att_masks.append(masks)\n",
        "    return att_masks\n",
        "\n",
        "val_att_masks_querys = get_masks(val_query_ids)\n",
        "val_att_masks_adtitles = get_masks(val_adtitle_ids)  \n",
        "\n",
        "val_tanc = torch.tensor(val_query_ids)\n",
        "valm_tanc = torch.tensor(val_att_masks_querys)\n",
        "val_title = torch.tensor(val_adtitle_ids)\n",
        "valm_title = torch.tensor(val_att_masks_adtitles)\n"
      ],
      "metadata": {
        "id": "kkTAhir9jZ5v"
      },
      "id": "kkTAhir9jZ5v",
      "execution_count": null,
      "outputs": []
    },
    {
      "cell_type": "code",
      "source": [
        "vval_data = TensorDataset(val_tanc, valm_tanc, val_title, valm_title)\n",
        "vval_dataloader = DataLoader(vval_data, batch_size=100)"
      ],
      "metadata": {
        "id": "pIaMt2ODkT0e"
      },
      "id": "pIaMt2ODkT0e",
      "execution_count": null,
      "outputs": []
    },
    {
      "cell_type": "code",
      "source": [
        "model.eval()\n",
        "pre_val_sims = []\n",
        "pre_val_labels =[] \n",
        "cnt = 0\n",
        "start = time.time()\n",
        "for k, (v_tanc, vm_tanc, v_tpos, vm_tpos) in enumerate(vval_dataloader):\n",
        "  # v_tanc = v_tanc.to(device)\n",
        "  # vm_tanc = vm_tanc.to(device)\n",
        "  # v_tpos = v_tpos.to(device)\n",
        "  # vm_tpos = vm_tpos.to(device)\n",
        "  pre_val_sim = model(v_tanc, vm_tanc, v_tpos, vm_tpos)\n",
        "  pre_val_sims.append(pre_val_sim)\n",
        "  pre_val_labels.append(pre_val_sim>=0.5)\n",
        "  cnt = cnt +1 \n",
        "  print(\"cnt=\",cnt)\n",
        "  if cnt==1:\n",
        "    break\n",
        "\n",
        "time.time() - start"
      ],
      "metadata": {
        "colab": {
          "base_uri": "https://localhost:8080/"
        },
        "id": "1XRsN6yXiUss",
        "outputId": "530db09e-7933-4297-d88b-ce14d41e9bf7"
      },
      "id": "1XRsN6yXiUss",
      "execution_count": null,
      "outputs": [
        {
          "output_type": "stream",
          "name": "stdout",
          "text": [
            "cnt= 1\n"
          ]
        },
        {
          "output_type": "execute_result",
          "data": {
            "text/plain": [
              "19.172230005264282"
            ]
          },
          "metadata": {},
          "execution_count": 10
        }
      ]
    },
    {
      "cell_type": "code",
      "source": [
        "from sklearn.metrics import confusion_matrix\n",
        "from sklearn.metrics import accuracy_score\n",
        "from sklearn.metrics import precision_score, recall_score\n",
        "\n",
        "\n",
        "pre_val_list = [ int(i) for i in pre_val_labels[0]]\n",
        "true_val_list = dataset['test.en']['relevance_label'][0:100]\n",
        "cm = confusion_matrix(true_val_list, pre_val_list, labels=[0, 1])\n",
        "tn, fp, fn, tp = confusion_matrix(list(true_val_list), list(pre_val_list), labels=[0, 1]).ravel()\n",
        "\n",
        "print('validation True Positive', tp)\n",
        "print('validation True Negative', tn)\n",
        "print('validation False Positive', fp)\n",
        "print('validation False Negative', fn)\n",
        "print(\"validation accuracy=\",accuracy_score(true_val_list, pre_val_list))\n",
        "\n",
        "\n",
        "print(\"validation precision=\",precision_score(true_val_list, pre_val_list))\n",
        "print(\"validation recall=\", recall_score(true_val_list, pre_val_list))"
      ],
      "metadata": {
        "colab": {
          "base_uri": "https://localhost:8080/"
        },
        "id": "LjNJ7ryhi-LF",
        "outputId": "c51fff0e-9571-405e-b0b9-dca23d2d425f"
      },
      "id": "LjNJ7ryhi-LF",
      "execution_count": null,
      "outputs": [
        {
          "output_type": "stream",
          "name": "stdout",
          "text": [
            "validation True Positive 29\n",
            "validation True Negative 15\n",
            "validation False Positive 35\n",
            "validation False Negative 21\n",
            "validation accuracy= 0.44\n",
            "validation precision= 0.453125\n",
            "validation recall= 0.58\n"
          ]
        }
      ]
    },
    {
      "cell_type": "markdown",
      "source": [
        "### load data , now doing test on test set "
      ],
      "metadata": {
        "id": "LzdJwjaOTrzZ"
      },
      "id": "LzdJwjaOTrzZ"
    },
    {
      "cell_type": "code",
      "source": [
        "# ! pip install datasets transformers\n",
        "# import transformers\n",
        "# print(transformers.__version__)\n",
        "# #device\n",
        "#from datasets import load_dataset, load_metric\n",
        "#dataset = load_dataset('xglue', 'qadsm')"
      ],
      "metadata": {
        "id": "rh517H2sTrLQ"
      },
      "id": "rh517H2sTrLQ",
      "execution_count": null,
      "outputs": []
    },
    {
      "cell_type": "markdown",
      "source": [
        "##### (1) Generate test query and ad_title embedding \n",
        "##### (2) Computer similarity \n",
        "##### (3) Generate Top-K "
      ],
      "metadata": {
        "id": "q5MGFSp3VcFt"
      },
      "id": "q5MGFSp3VcFt"
    },
    {
      "cell_type": "code",
      "source": [
        "tokenizer = AutoTokenizer.from_pretrained('bert-base-uncased')\n",
        "test_querys = dataset['test.en']['query']\n",
        "test_adtitles = dataset['test.en']['ad_title']\n",
        "max_length = 35\n",
        "\n",
        "test_query_ids = [tokenizer.encode(text, max_length=max_length, truncation=True, padding='max_length') for text in test_querys]\n",
        "test_adtitle_ids = [tokenizer.encode(text, max_length=max_length, truncation=True, padding='max_length') for text in test_adtitles]\n",
        "\n",
        "def get_masks(text_ids):\n",
        "    att_masks = []\n",
        "    for ids in text_ids:\n",
        "        masks = [int(id > 0) for id in ids]\n",
        "        att_masks.append(masks)\n",
        "    return att_masks\n",
        "\n",
        "test_att_masks_querys = get_masks(test_query_ids)\n",
        "test_att_masks_adtitles = get_masks(test_adtitle_ids)  \n",
        "\n",
        "test_tanc = torch.tensor(test_query_ids)\n",
        "testm_tanc = torch.tensor(test_att_masks_querys)\n",
        "test_title = torch.tensor(test_adtitle_ids)\n",
        "testm_title = torch.tensor(test_att_masks_adtitles)\n"
      ],
      "metadata": {
        "id": "dAA-E-paVhNj"
      },
      "id": "dAA-E-paVhNj",
      "execution_count": null,
      "outputs": []
    },
    {
      "cell_type": "code",
      "source": [
        "seed_val = 111\n",
        "np.random.seed(seed_val)\n",
        "torch.manual_seed(seed_val)\n",
        "\n",
        "\n",
        "test_data = TensorDataset(test_tanc, testm_tanc, test_title, testm_title)\n",
        "test_dataloader = DataLoader(test_data, batch_size=100)#100)"
      ],
      "metadata": {
        "id": "n-FcplbOXZ6b"
      },
      "id": "n-FcplbOXZ6b",
      "execution_count": null,
      "outputs": []
    },
    {
      "cell_type": "code",
      "execution_count": null,
      "id": "df4e4952",
      "metadata": {
        "id": "df4e4952"
      },
      "outputs": [],
      "source": [
        "with torch.no_grad():\n",
        "  model.eval()\n",
        "  sim_pos = []\n",
        "  sim_neg = []\n",
        "  test_query_embeddings = []\n",
        "  test_title_embeddings = []\n",
        "  start = time.time()\n",
        "  cnt =0 \n",
        "  for k, (t_tanc, tm_tanc, t_tpos, tm_tpos) in enumerate(test_dataloader):\n",
        "      t_tanc = t_tanc.to(device)\n",
        "      tm_tanc = tm_tanc.to(device)\n",
        "       \n",
        "      #anchor_embedding = model.fc(torch.mean(model.encoder(t_tanc.cpu(), tm_tanc.cpu()).last_hidden_state, dim=1)).cpu().detach().numpy()\n",
        "      anchor_embedding = model.fc(torch.mean(model.encoder(t_tanc, tm_tanc).last_hidden_state, dim=1)).cpu().detach().numpy()\n",
        "      test_query_embeddings.append(anchor_embedding)\n",
        "      t_tpos = t_tpos.to(device)\n",
        "      tm_tpos = tm_tpos.to(device)\n",
        "      pos_embedding = model.fc(torch.mean(model.encoder(t_tpos, tm_tpos).last_hidden_state, dim=1)).cpu().detach().numpy()\n",
        "      #pos_embedding = model.fc(torch.mean(model.encoder(t_tpos.cpu(), tm_tpos.cpu()).last_hidden_state, dim=1)).cpu().detach().numpy()\n",
        "      test_title_embeddings.append(pos_embedding)\n",
        "      cnt =cnt+1\n",
        "      print(\"cnt=\",cnt)\n",
        "      if cnt==2:\n",
        "        break\n",
        "  test_query_embeddings = np.vstack(test_query_embeddings)\n",
        "  test_title_embeddings = np.vstack(test_title_embeddings)\n",
        "  # np.save('test_query_vectors', test_query_embeddings)\n",
        "  # np.save('test_title_vectors', test_title_embeddings)\n",
        "  print(\"test_query_embeddings=\",test_query_embeddings)\n",
        "\n"
      ]
    },
    {
      "cell_type": "code",
      "source": [
        "pre_test_sims[0]"
      ],
      "metadata": {
        "colab": {
          "base_uri": "https://localhost:8080/"
        },
        "id": "uQFJ4HSHbphw",
        "outputId": "722f0a76-c6e3-4e13-c9b8-d7834b7f24d4"
      },
      "id": "uQFJ4HSHbphw",
      "execution_count": null,
      "outputs": [
        {
          "output_type": "execute_result",
          "data": {
            "text/plain": [
              "list"
            ]
          },
          "metadata": {},
          "execution_count": 24
        }
      ]
    },
    {
      "cell_type": "code",
      "source": [
        "model.eval()\n",
        "pre_test_sims = []\n",
        "pre_test_labels =[] \n",
        "cnt = 0\n",
        "start = time.time()\n",
        "for k, (t_tanc, tm_tanc, t_tpos, tm_tpos) in enumerate(test_dataloader):\n",
        "  # t_tanc = t_tanc.to(device)\n",
        "  # tm_tanc = tm_tanc.to(device)\n",
        "  # t_tpos = t_tpos.to(device)\n",
        "  # tm_tpos = tm_tpos.to(device)\n",
        "  pre_test_sim = model(t_tanc, tm_tanc, t_tpos, tm_tpos)\n",
        "  pre_test_sims.append(pre_test_sim)\n",
        "  pre_test_labels.append(pre_test_sim>=0.5)\n",
        "  cnt = cnt +1 \n",
        "  if cnt ==1:\n",
        "    break \n",
        "time.time() - start\n",
        "# print(pre_test_sims)\n",
        "# print(pre_test_labels)"
      ],
      "metadata": {
        "colab": {
          "base_uri": "https://localhost:8080/"
        },
        "id": "Y68ZQOvfY2aQ",
        "outputId": "bd979961-570e-44d8-c7a2-c0cab65936ff"
      },
      "id": "Y68ZQOvfY2aQ",
      "execution_count": null,
      "outputs": [
        {
          "output_type": "execute_result",
          "data": {
            "text/plain": [
              "21.566457271575928"
            ]
          },
          "metadata": {},
          "execution_count": 14
        }
      ]
    },
    {
      "cell_type": "code",
      "source": [
        "dataset['test.en'][0:5]"
      ],
      "metadata": {
        "colab": {
          "base_uri": "https://localhost:8080/"
        },
        "id": "7Bah8rvR-Lob",
        "outputId": "568791e7-4746-40a2-8ce3-2fa2e0675d98"
      },
      "id": "7Bah8rvR-Lob",
      "execution_count": null,
      "outputs": [
        {
          "output_type": "execute_result",
          "data": {
            "text/plain": [
              "{'ad_description': ['Download & Install Instantly Today. Secure & Live Customer Service!',\n",
              "  'Over 1MM+ eBooks and bestsellers. Buy Today & Read Anywhere!',\n",
              "  'Discover Windows 8 Flexibility. Built to Work Easy and Play Hard.',\n",
              "  \"Qualified orders over $25 ship free. Buy 'history Channel' at Amazon!\",\n",
              "  'Discover Windows 8 Flexibility. Built to Work Easy and Play Hard.'],\n",
              " 'ad_title': ['Office 2010 Now $98',\n",
              "  'Kindle eBooks at Amazon',\n",
              "  'Microsoft Windows® 8',\n",
              "  \"'history Channel'\",\n",
              "  'Microsoft Windows® 8'],\n",
              " 'query': ['free windows office',\n",
              "  'detroitnews.com',\n",
              "  'ms security essential update',\n",
              "  'spontaneous combustion history channel',\n",
              "  'update windows'],\n",
              " 'relevance_label': [1, 0, 1, 0, 1]}"
            ]
          },
          "metadata": {},
          "execution_count": 35
        }
      ]
    },
    {
      "cell_type": "code",
      "source": [
        "pre_test_labels[0][0:5]"
      ],
      "metadata": {
        "colab": {
          "base_uri": "https://localhost:8080/"
        },
        "id": "Qsz69Aw1-VX1",
        "outputId": "c93d7ec3-5c5a-4757-a6e2-35afeda6da5f"
      },
      "id": "Qsz69Aw1-VX1",
      "execution_count": null,
      "outputs": [
        {
          "output_type": "execute_result",
          "data": {
            "text/plain": [
              "tensor([ True, False, False,  True, False])"
            ]
          },
          "metadata": {},
          "execution_count": 32
        }
      ]
    },
    {
      "cell_type": "code",
      "source": [
        "pre_test_sims[0][0:5]"
      ],
      "metadata": {
        "colab": {
          "base_uri": "https://localhost:8080/"
        },
        "id": "qqy5hv5Y-SLh",
        "outputId": "c8fc4429-7a57-49f4-9203-a593957cd63f"
      },
      "id": "qqy5hv5Y-SLh",
      "execution_count": null,
      "outputs": [
        {
          "output_type": "execute_result",
          "data": {
            "text/plain": [
              "tensor([0.5731, 0.2286, 0.3828, 0.5510, 0.2797], grad_fn=<SliceBackward0>)"
            ]
          },
          "metadata": {},
          "execution_count": 33
        }
      ]
    },
    {
      "cell_type": "code",
      "source": [
        "import numpy as np\n",
        "import pandas as pd\n",
        "df_test = pd.DataFrame({'pre_sim':pre_test_sims[0].detach().numpy(), 'true_y':pre_test_labels[0].detach().numpy()})\n",
        "df_test.to_csv(\"test_pre_sim.csv\")"
      ],
      "metadata": {
        "id": "GfO3dE6F8kvJ"
      },
      "id": "GfO3dE6F8kvJ",
      "execution_count": null,
      "outputs": []
    },
    {
      "cell_type": "code",
      "source": [
        "from sklearn.metrics import confusion_matrix\n",
        "from sklearn.metrics import accuracy_score\n",
        "from sklearn.metrics import precision_score, recall_score\n",
        "\n",
        "\n",
        "pre_test_list = [ int(i) for i in pre_test_labels[0]]\n",
        "true_test_list = dataset['test.en']['relevance_label'][0:100]\n",
        "cm = confusion_matrix(true_test_list, pre_test_list, labels=[0, 1])\n",
        "tn, fp, fn, tp = confusion_matrix(list(true_test_list), list(pre_test_list), labels=[0, 1]).ravel()\n",
        "\n",
        "print(\"accuracy=\",accuracy_score(true_test_list, pre_test_list))\n",
        "\n",
        "\n",
        "print(\"precision=\",precision_score(true_test_list, pre_test_list))\n",
        "print(\"recall=\", recall_score(true_test_list, pre_test_list))"
      ],
      "metadata": {
        "colab": {
          "base_uri": "https://localhost:8080/"
        },
        "id": "P6o6LqKVcKTo",
        "outputId": "299e47e3-fcf4-45c5-e5e4-96779d39bd27"
      },
      "id": "P6o6LqKVcKTo",
      "execution_count": null,
      "outputs": [
        {
          "output_type": "stream",
          "name": "stdout",
          "text": [
            "accuracy= 0.62\n",
            "precision= 0.6304347826086957\n",
            "recall= 0.58\n"
          ]
        }
      ]
    },
    {
      "cell_type": "markdown",
      "source": [
        "#### save embeddings"
      ],
      "metadata": {
        "id": "l_KDwFcI_gVQ"
      },
      "id": "l_KDwFcI_gVQ"
    },
    {
      "cell_type": "code",
      "execution_count": null,
      "id": "fb9011aa",
      "metadata": {
        "id": "fb9011aa"
      },
      "outputs": [],
      "source": [
        "#change output vector names here\n",
        "loadvectors = False\n",
        "if loadvectors:\n",
        "    test_embeddings = np.load('output/test_qvectors.npy')\n",
        "    train_embeddings = np.load('output/test_tvectors.npy')\n",
        "else:\n",
        "    model.eval()\n",
        "    sim_pos = []\n",
        "    sim_neg = []\n",
        "    test_query_embeddings = []\n",
        "    test_title_embeddings = []\n",
        "    start = time.time()\n",
        "    for k, (t_tanc, tm_tanc, t_tpos, tm_tpos) in enumerate(test_dataloader):\n",
        "        # t_tanc = t_tanc.to(device)\n",
        "        # tm_tanc = tm_tanc.to(device)\n",
        "        q_embedding = model.fc(torch.mean(model.encoder(t_tanc, tm_tanc).last_hidden_state, dim=1)).cpu().detach().numpy()\n",
        "        test_query_embeddings.append(q_embedding)\n",
        "        t_embedding = model.fc(torch.mean(model.encoder(t_tpos, tm_tpos).last_hidden_state, dim=1)).cpu().detach().numpy()\n",
        "        test_title_embeddings.append(t_embedding)\n",
        "        break\n",
        "\n",
        "    test_query_embeddings = np.vstack(q_embedding)\n",
        "    test_title_embeddings = np.vstack(t_embedding)\n",
        "    np.save('test_qvectors', test_query_embeddings)\n",
        "    np.save('test_tvectors', test_title_embeddings)\n",
        "    time.time() - start"
      ]
    },
    {
      "cell_type": "code",
      "source": [
        "# model.eval()\n",
        "# pre_pos_sims = []\n",
        "# pre_neg_sims = []\n",
        "# train_embeddings = []\n",
        "# start = time.time()\n",
        "# for k, (v_tanc, vm_tanc, v_tpos, vm_tpos, v_tneg, vm_tneg) in enumerate(val_dataloader):\n",
        "#   v_tanc = v_tanc.to(device)\n",
        "#   vm_tanc = vm_tanc.to(device)\n",
        "#   v_tpos = v_tpos.to(device)\n",
        "#   vm_tpos = vm_tpos.to(device)\n",
        "#   v_tneg = v_tneg.to(device)\n",
        "#   vm_tneg = vm_tneg.to(device)\n",
        "#   pre_pos_sim = model(v_tanc, vm_tanc, v_tpos, vm_tpos)\n",
        "#   pre_neg_sim = model(v_tanc, vm_tanc, v_tneg, vm_tneg)\n",
        "#   pre_pos_sims.append(pre_pos_sim)\n",
        "#   pre_neg_sims.append(pre_neg_sim)\n",
        "  \n",
        "# time.time() - start"
      ],
      "metadata": {
        "id": "Y-wlaUx-02jn"
      },
      "id": "Y-wlaUx-02jn",
      "execution_count": null,
      "outputs": []
    },
    {
      "cell_type": "code",
      "execution_count": null,
      "id": "bb26b998",
      "metadata": {
        "id": "bb26b998"
      },
      "outputs": [],
      "source": [
        "from sklearn.metrics.pairwise import cosine_similarity"
      ]
    },
    {
      "cell_type": "code",
      "execution_count": null,
      "id": "48a130d6",
      "metadata": {
        "id": "48a130d6"
      },
      "outputs": [],
      "source": [
        "test_q_embeddings = np.load('./test_qvectors.npy')\n",
        "test_t_embeddings = np.load('./test_tvectors.npy')"
      ]
    },
    {
      "cell_type": "code",
      "source": [
        "from sklearn.metrics.pairwise import cosine_similarity\n",
        "import numpy as np\n",
        "X = np.array([[1,2],[2,5]])\n",
        "Y = np.array([[2,2]])\n",
        "Z = np.array([2,4])\n",
        "\n",
        "# calculate cosine similarity between [X] and [Y,Z]\n",
        "# sending input as arrays would allow for calculating both cosine_sim(X,Y) and cosine_sim (X,Y)\n",
        "print(\"X.shape=\",X.shape, \"Y.shape=\",Y.shape)\n",
        "cos_sim = cosine_similarity(X, Y)\n",
        "print(cos_sim)\n",
        "print(cos_sim.shape)\n",
        "np.argsort(-cos_sim, axis=1)#[0:2]"
      ],
      "metadata": {
        "colab": {
          "base_uri": "https://localhost:8080/"
        },
        "id": "YUuCNzfOGqPH",
        "outputId": "29af71c9-7cdd-4788-b1ae-1ef1e45ae62a"
      },
      "id": "YUuCNzfOGqPH",
      "execution_count": null,
      "outputs": [
        {
          "output_type": "stream",
          "name": "stdout",
          "text": [
            "X.shape= (2, 2) Y.shape= (1, 2)\n",
            "[[0.9486833 ]\n",
            " [0.91914503]]\n",
            "(2, 1)\n"
          ]
        },
        {
          "output_type": "execute_result",
          "data": {
            "text/plain": [
              "array([[0],\n",
              "       [0]])"
            ]
          },
          "metadata": {},
          "execution_count": 94
        }
      ]
    },
    {
      "cell_type": "code",
      "execution_count": null,
      "id": "0abb8b9f",
      "metadata": {
        "id": "0abb8b9f",
        "outputId": "66ff6e4a-0a21-4b63-d5f4-b23bf89d0f0a",
        "colab": {
          "base_uri": "https://localhost:8080/"
        }
      },
      "outputs": [
        {
          "output_type": "stream",
          "name": "stdout",
          "text": [
            "batches= 1\n",
            "no. rows= (100, 128) test_t_embeddings.shape= (100, 128)\n",
            "similarity.shape= (100, 100)\n",
            "top-1 indexes= [ 0  0 74  3 74 51  6 27  6  9 74 74 74 59 14 15  1 48  3 51 94 21 22 23\n",
            " 24 51 18 27 28 54 30 21 66 33 66  0 88 71 46 51 40 78 42 43 42 88 53 47\n",
            " 22 49 50 51 52 53 57 22 63 28 58 59 60 19 60 63 64 23 66 86 27 69 70  0\n",
            " 72  7 74 72 76 77 96 77 80 77 80 79 94 26 80 26 88 26 90 26 92 26 96 26\n",
            " 96 16 96 18]\n"
          ]
        }
      ],
      "source": [
        "similarity = 0\n",
        "indexes = 0\n",
        "score = 0\n",
        "batch_size = 100\n",
        "batches = test_q_embeddings.shape[0] // batch_size\n",
        "print(\"batches=\",batches)\n",
        "\n",
        "if test_q_embeddings.shape[0]%batch_size != 0:\n",
        "    batches = batches + 1 \n",
        "\n",
        "for row_i in range(0, batches):\n",
        "    similarity = 0\n",
        "    indexes = 0\n",
        "    score = 0\n",
        "    start = row_i * batch_size\n",
        "    end = min([(row_i + 1) * batch_size, test_q_embeddings.shape[0]])        \n",
        "    rows = test_q_embeddings[start: end]\n",
        "    print(\"no. rows=\",rows.shape,\"test_t_embeddings.shape=\",test_t_embeddings.shape)\n",
        "    similarity = cosine_similarity(rows, test_t_embeddings)  \n",
        "    print(\"similarity.shape=\",similarity.shape)\n",
        "    ## top-1 \n",
        "    indexes = np.argmax(similarity, axis=1)\n",
        "    print(\"top-1 indexes=\",indexes)\n",
        "    ## top-3 \n",
        "    # print(np.argsort(similarity, axis=1)[:,-3:])\n",
        "    # score = np.max(similarity, axis=1)\n",
        "    # print(\"len(indexes)=\",len(indexes),\"len(score)=\",len(score))\n",
        "    # print(\"indexes=\",indexes,\"score=\",score)\n",
        "    break"
      ]
    },
    {
      "cell_type": "code",
      "source": [
        "indexes[0:5]\n",
        "\n",
        "# dataset['test.en'][0]"
      ],
      "metadata": {
        "colab": {
          "base_uri": "https://localhost:8080/"
        },
        "id": "Xdsk61LNBz7P",
        "outputId": "a5a5ad7b-0444-4de0-b0f7-00c52c06cde5"
      },
      "id": "Xdsk61LNBz7P",
      "execution_count": null,
      "outputs": [
        {
          "output_type": "execute_result",
          "data": {
            "text/plain": [
              "array([ 0,  0, 74,  3, 74])"
            ]
          },
          "metadata": {},
          "execution_count": 47
        }
      ]
    },
    {
      "cell_type": "code",
      "source": [
        "score[0:5]"
      ],
      "metadata": {
        "colab": {
          "base_uri": "https://localhost:8080/"
        },
        "id": "P7b3RVuOCNhS",
        "outputId": "819801bc-33a4-4d39-dc19-1925d0e7d053"
      },
      "id": "P7b3RVuOCNhS",
      "execution_count": null,
      "outputs": [
        {
          "output_type": "execute_result",
          "data": {
            "text/plain": [
              "array([0.5731111 , 0.45155165, 0.57501847, 0.5510431 , 0.3222438 ],\n",
              "      dtype=float32)"
            ]
          },
          "metadata": {},
          "execution_count": 48
        }
      ]
    },
    {
      "cell_type": "code",
      "source": [
        "dataset['test.en'][0]"
      ],
      "metadata": {
        "colab": {
          "base_uri": "https://localhost:8080/"
        },
        "id": "kIJNcUiOCPXq",
        "outputId": "c0b1331f-9aca-4006-a7e5-2a49d0b3de57"
      },
      "id": "kIJNcUiOCPXq",
      "execution_count": null,
      "outputs": [
        {
          "output_type": "execute_result",
          "data": {
            "text/plain": [
              "{'ad_description': 'Download & Install Instantly Today. Secure & Live Customer Service!',\n",
              " 'ad_title': 'Office 2010 Now $98',\n",
              " 'query': 'free windows office',\n",
              " 'relevance_label': 1}"
            ]
          },
          "metadata": {},
          "execution_count": 109
        }
      ]
    },
    {
      "cell_type": "code",
      "source": [
        "dataset['test.en'][1]"
      ],
      "metadata": {
        "colab": {
          "base_uri": "https://localhost:8080/"
        },
        "id": "wQauUpHNCU6y",
        "outputId": "102b39f0-14c5-4157-a035-e9894194ebaf"
      },
      "id": "wQauUpHNCU6y",
      "execution_count": null,
      "outputs": [
        {
          "output_type": "execute_result",
          "data": {
            "text/plain": [
              "{'ad_description': 'Over 1MM+ eBooks and bestsellers. Buy Today & Read Anywhere!',\n",
              " 'ad_title': 'Kindle eBooks at Amazon',\n",
              " 'query': 'detroitnews.com',\n",
              " 'relevance_label': 0}"
            ]
          },
          "metadata": {},
          "execution_count": 108
        }
      ]
    },
    {
      "cell_type": "code",
      "source": [
        ""
      ],
      "metadata": {
        "id": "xE_oih7aCodT"
      },
      "id": "xE_oih7aCodT",
      "execution_count": null,
      "outputs": []
    }
  ],
  "metadata": {
    "accelerator": "GPU",
    "colab": {
      "collapsed_sections": [],
      "name": "saimese_title2.ipynb",
      "provenance": []
    },
    "gpuClass": "standard",
    "kernelspec": {
      "display_name": "conda_pytorch_p36",
      "language": "python",
      "name": "conda_pytorch_p36"
    },
    "language_info": {
      "codemirror_mode": {
        "name": "ipython",
        "version": 3
      },
      "file_extension": ".py",
      "mimetype": "text/x-python",
      "name": "python",
      "nbconvert_exporter": "python",
      "pygments_lexer": "ipython3",
      "version": "3.6.13"
    },
    "widgets": {
      "application/vnd.jupyter.widget-state+json": {
        "e759e52ac31d482097729bb72592c6ab": {
          "model_module": "@jupyter-widgets/controls",
          "model_name": "HBoxModel",
          "model_module_version": "1.5.0",
          "state": {
            "_dom_classes": [],
            "_model_module": "@jupyter-widgets/controls",
            "_model_module_version": "1.5.0",
            "_model_name": "HBoxModel",
            "_view_count": null,
            "_view_module": "@jupyter-widgets/controls",
            "_view_module_version": "1.5.0",
            "_view_name": "HBoxView",
            "box_style": "",
            "children": [
              "IPY_MODEL_b0555bc406c6402288287211f4ba98ce",
              "IPY_MODEL_1699666da7884f24a61de2392508c786",
              "IPY_MODEL_6340959ba4224cbba932502ba00b6b01"
            ],
            "layout": "IPY_MODEL_ee2c0a74ebdb4a38bbc579084912ee40"
          }
        },
        "b0555bc406c6402288287211f4ba98ce": {
          "model_module": "@jupyter-widgets/controls",
          "model_name": "HTMLModel",
          "model_module_version": "1.5.0",
          "state": {
            "_dom_classes": [],
            "_model_module": "@jupyter-widgets/controls",
            "_model_module_version": "1.5.0",
            "_model_name": "HTMLModel",
            "_view_count": null,
            "_view_module": "@jupyter-widgets/controls",
            "_view_module_version": "1.5.0",
            "_view_name": "HTMLView",
            "description": "",
            "description_tooltip": null,
            "layout": "IPY_MODEL_8d5479ed048c49c5b73d4e6f937ac049",
            "placeholder": "​",
            "style": "IPY_MODEL_d84477b020484b04abac3cfe3b9d4c00",
            "value": "Downloading: 100%"
          }
        },
        "1699666da7884f24a61de2392508c786": {
          "model_module": "@jupyter-widgets/controls",
          "model_name": "FloatProgressModel",
          "model_module_version": "1.5.0",
          "state": {
            "_dom_classes": [],
            "_model_module": "@jupyter-widgets/controls",
            "_model_module_version": "1.5.0",
            "_model_name": "FloatProgressModel",
            "_view_count": null,
            "_view_module": "@jupyter-widgets/controls",
            "_view_module_version": "1.5.0",
            "_view_name": "ProgressView",
            "bar_style": "success",
            "description": "",
            "description_tooltip": null,
            "layout": "IPY_MODEL_0f0fd07f18f14d128c747609226460ab",
            "max": 28,
            "min": 0,
            "orientation": "horizontal",
            "style": "IPY_MODEL_c44172996cd14c9aa06c7dd36a098a8d",
            "value": 28
          }
        },
        "6340959ba4224cbba932502ba00b6b01": {
          "model_module": "@jupyter-widgets/controls",
          "model_name": "HTMLModel",
          "model_module_version": "1.5.0",
          "state": {
            "_dom_classes": [],
            "_model_module": "@jupyter-widgets/controls",
            "_model_module_version": "1.5.0",
            "_model_name": "HTMLModel",
            "_view_count": null,
            "_view_module": "@jupyter-widgets/controls",
            "_view_module_version": "1.5.0",
            "_view_name": "HTMLView",
            "description": "",
            "description_tooltip": null,
            "layout": "IPY_MODEL_793bf25388f049dbbd2317f49192ccf8",
            "placeholder": "​",
            "style": "IPY_MODEL_30c49907b2dd428e92c3f797104cc18b",
            "value": " 28.0/28.0 [00:00&lt;00:00, 757B/s]"
          }
        },
        "ee2c0a74ebdb4a38bbc579084912ee40": {
          "model_module": "@jupyter-widgets/base",
          "model_name": "LayoutModel",
          "model_module_version": "1.2.0",
          "state": {
            "_model_module": "@jupyter-widgets/base",
            "_model_module_version": "1.2.0",
            "_model_name": "LayoutModel",
            "_view_count": null,
            "_view_module": "@jupyter-widgets/base",
            "_view_module_version": "1.2.0",
            "_view_name": "LayoutView",
            "align_content": null,
            "align_items": null,
            "align_self": null,
            "border": null,
            "bottom": null,
            "display": null,
            "flex": null,
            "flex_flow": null,
            "grid_area": null,
            "grid_auto_columns": null,
            "grid_auto_flow": null,
            "grid_auto_rows": null,
            "grid_column": null,
            "grid_gap": null,
            "grid_row": null,
            "grid_template_areas": null,
            "grid_template_columns": null,
            "grid_template_rows": null,
            "height": null,
            "justify_content": null,
            "justify_items": null,
            "left": null,
            "margin": null,
            "max_height": null,
            "max_width": null,
            "min_height": null,
            "min_width": null,
            "object_fit": null,
            "object_position": null,
            "order": null,
            "overflow": null,
            "overflow_x": null,
            "overflow_y": null,
            "padding": null,
            "right": null,
            "top": null,
            "visibility": null,
            "width": null
          }
        },
        "8d5479ed048c49c5b73d4e6f937ac049": {
          "model_module": "@jupyter-widgets/base",
          "model_name": "LayoutModel",
          "model_module_version": "1.2.0",
          "state": {
            "_model_module": "@jupyter-widgets/base",
            "_model_module_version": "1.2.0",
            "_model_name": "LayoutModel",
            "_view_count": null,
            "_view_module": "@jupyter-widgets/base",
            "_view_module_version": "1.2.0",
            "_view_name": "LayoutView",
            "align_content": null,
            "align_items": null,
            "align_self": null,
            "border": null,
            "bottom": null,
            "display": null,
            "flex": null,
            "flex_flow": null,
            "grid_area": null,
            "grid_auto_columns": null,
            "grid_auto_flow": null,
            "grid_auto_rows": null,
            "grid_column": null,
            "grid_gap": null,
            "grid_row": null,
            "grid_template_areas": null,
            "grid_template_columns": null,
            "grid_template_rows": null,
            "height": null,
            "justify_content": null,
            "justify_items": null,
            "left": null,
            "margin": null,
            "max_height": null,
            "max_width": null,
            "min_height": null,
            "min_width": null,
            "object_fit": null,
            "object_position": null,
            "order": null,
            "overflow": null,
            "overflow_x": null,
            "overflow_y": null,
            "padding": null,
            "right": null,
            "top": null,
            "visibility": null,
            "width": null
          }
        },
        "d84477b020484b04abac3cfe3b9d4c00": {
          "model_module": "@jupyter-widgets/controls",
          "model_name": "DescriptionStyleModel",
          "model_module_version": "1.5.0",
          "state": {
            "_model_module": "@jupyter-widgets/controls",
            "_model_module_version": "1.5.0",
            "_model_name": "DescriptionStyleModel",
            "_view_count": null,
            "_view_module": "@jupyter-widgets/base",
            "_view_module_version": "1.2.0",
            "_view_name": "StyleView",
            "description_width": ""
          }
        },
        "0f0fd07f18f14d128c747609226460ab": {
          "model_module": "@jupyter-widgets/base",
          "model_name": "LayoutModel",
          "model_module_version": "1.2.0",
          "state": {
            "_model_module": "@jupyter-widgets/base",
            "_model_module_version": "1.2.0",
            "_model_name": "LayoutModel",
            "_view_count": null,
            "_view_module": "@jupyter-widgets/base",
            "_view_module_version": "1.2.0",
            "_view_name": "LayoutView",
            "align_content": null,
            "align_items": null,
            "align_self": null,
            "border": null,
            "bottom": null,
            "display": null,
            "flex": null,
            "flex_flow": null,
            "grid_area": null,
            "grid_auto_columns": null,
            "grid_auto_flow": null,
            "grid_auto_rows": null,
            "grid_column": null,
            "grid_gap": null,
            "grid_row": null,
            "grid_template_areas": null,
            "grid_template_columns": null,
            "grid_template_rows": null,
            "height": null,
            "justify_content": null,
            "justify_items": null,
            "left": null,
            "margin": null,
            "max_height": null,
            "max_width": null,
            "min_height": null,
            "min_width": null,
            "object_fit": null,
            "object_position": null,
            "order": null,
            "overflow": null,
            "overflow_x": null,
            "overflow_y": null,
            "padding": null,
            "right": null,
            "top": null,
            "visibility": null,
            "width": null
          }
        },
        "c44172996cd14c9aa06c7dd36a098a8d": {
          "model_module": "@jupyter-widgets/controls",
          "model_name": "ProgressStyleModel",
          "model_module_version": "1.5.0",
          "state": {
            "_model_module": "@jupyter-widgets/controls",
            "_model_module_version": "1.5.0",
            "_model_name": "ProgressStyleModel",
            "_view_count": null,
            "_view_module": "@jupyter-widgets/base",
            "_view_module_version": "1.2.0",
            "_view_name": "StyleView",
            "bar_color": null,
            "description_width": ""
          }
        },
        "793bf25388f049dbbd2317f49192ccf8": {
          "model_module": "@jupyter-widgets/base",
          "model_name": "LayoutModel",
          "model_module_version": "1.2.0",
          "state": {
            "_model_module": "@jupyter-widgets/base",
            "_model_module_version": "1.2.0",
            "_model_name": "LayoutModel",
            "_view_count": null,
            "_view_module": "@jupyter-widgets/base",
            "_view_module_version": "1.2.0",
            "_view_name": "LayoutView",
            "align_content": null,
            "align_items": null,
            "align_self": null,
            "border": null,
            "bottom": null,
            "display": null,
            "flex": null,
            "flex_flow": null,
            "grid_area": null,
            "grid_auto_columns": null,
            "grid_auto_flow": null,
            "grid_auto_rows": null,
            "grid_column": null,
            "grid_gap": null,
            "grid_row": null,
            "grid_template_areas": null,
            "grid_template_columns": null,
            "grid_template_rows": null,
            "height": null,
            "justify_content": null,
            "justify_items": null,
            "left": null,
            "margin": null,
            "max_height": null,
            "max_width": null,
            "min_height": null,
            "min_width": null,
            "object_fit": null,
            "object_position": null,
            "order": null,
            "overflow": null,
            "overflow_x": null,
            "overflow_y": null,
            "padding": null,
            "right": null,
            "top": null,
            "visibility": null,
            "width": null
          }
        },
        "30c49907b2dd428e92c3f797104cc18b": {
          "model_module": "@jupyter-widgets/controls",
          "model_name": "DescriptionStyleModel",
          "model_module_version": "1.5.0",
          "state": {
            "_model_module": "@jupyter-widgets/controls",
            "_model_module_version": "1.5.0",
            "_model_name": "DescriptionStyleModel",
            "_view_count": null,
            "_view_module": "@jupyter-widgets/base",
            "_view_module_version": "1.2.0",
            "_view_name": "StyleView",
            "description_width": ""
          }
        },
        "ad69269bd7924ce9992225dd9366805f": {
          "model_module": "@jupyter-widgets/controls",
          "model_name": "HBoxModel",
          "model_module_version": "1.5.0",
          "state": {
            "_dom_classes": [],
            "_model_module": "@jupyter-widgets/controls",
            "_model_module_version": "1.5.0",
            "_model_name": "HBoxModel",
            "_view_count": null,
            "_view_module": "@jupyter-widgets/controls",
            "_view_module_version": "1.5.0",
            "_view_name": "HBoxView",
            "box_style": "",
            "children": [
              "IPY_MODEL_8bfda8db80834d05ac03e0c6652a4154",
              "IPY_MODEL_894bd63e5dea44e5a58f6de78e2efd7a",
              "IPY_MODEL_06cb2af5a1f4450e97e7127bbbf29e60"
            ],
            "layout": "IPY_MODEL_9b7f7193c3a14685ae3ca675add8c61b"
          }
        },
        "8bfda8db80834d05ac03e0c6652a4154": {
          "model_module": "@jupyter-widgets/controls",
          "model_name": "HTMLModel",
          "model_module_version": "1.5.0",
          "state": {
            "_dom_classes": [],
            "_model_module": "@jupyter-widgets/controls",
            "_model_module_version": "1.5.0",
            "_model_name": "HTMLModel",
            "_view_count": null,
            "_view_module": "@jupyter-widgets/controls",
            "_view_module_version": "1.5.0",
            "_view_name": "HTMLView",
            "description": "",
            "description_tooltip": null,
            "layout": "IPY_MODEL_44285a7623f6444abb291f6ba3db5c66",
            "placeholder": "​",
            "style": "IPY_MODEL_f76bb42571424c698318653219ab77ae",
            "value": "Downloading: 100%"
          }
        },
        "894bd63e5dea44e5a58f6de78e2efd7a": {
          "model_module": "@jupyter-widgets/controls",
          "model_name": "FloatProgressModel",
          "model_module_version": "1.5.0",
          "state": {
            "_dom_classes": [],
            "_model_module": "@jupyter-widgets/controls",
            "_model_module_version": "1.5.0",
            "_model_name": "FloatProgressModel",
            "_view_count": null,
            "_view_module": "@jupyter-widgets/controls",
            "_view_module_version": "1.5.0",
            "_view_name": "ProgressView",
            "bar_style": "success",
            "description": "",
            "description_tooltip": null,
            "layout": "IPY_MODEL_b4eacfbcf7664a2cabace138b2cc1e43",
            "max": 231508,
            "min": 0,
            "orientation": "horizontal",
            "style": "IPY_MODEL_6e7367f9c6c54621861fa79511804035",
            "value": 231508
          }
        },
        "06cb2af5a1f4450e97e7127bbbf29e60": {
          "model_module": "@jupyter-widgets/controls",
          "model_name": "HTMLModel",
          "model_module_version": "1.5.0",
          "state": {
            "_dom_classes": [],
            "_model_module": "@jupyter-widgets/controls",
            "_model_module_version": "1.5.0",
            "_model_name": "HTMLModel",
            "_view_count": null,
            "_view_module": "@jupyter-widgets/controls",
            "_view_module_version": "1.5.0",
            "_view_name": "HTMLView",
            "description": "",
            "description_tooltip": null,
            "layout": "IPY_MODEL_e98457d292d346419208a9240be99136",
            "placeholder": "​",
            "style": "IPY_MODEL_ab603b4fd262430fa98c53c3d673901b",
            "value": " 226k/226k [00:00&lt;00:00, 697kB/s]"
          }
        },
        "9b7f7193c3a14685ae3ca675add8c61b": {
          "model_module": "@jupyter-widgets/base",
          "model_name": "LayoutModel",
          "model_module_version": "1.2.0",
          "state": {
            "_model_module": "@jupyter-widgets/base",
            "_model_module_version": "1.2.0",
            "_model_name": "LayoutModel",
            "_view_count": null,
            "_view_module": "@jupyter-widgets/base",
            "_view_module_version": "1.2.0",
            "_view_name": "LayoutView",
            "align_content": null,
            "align_items": null,
            "align_self": null,
            "border": null,
            "bottom": null,
            "display": null,
            "flex": null,
            "flex_flow": null,
            "grid_area": null,
            "grid_auto_columns": null,
            "grid_auto_flow": null,
            "grid_auto_rows": null,
            "grid_column": null,
            "grid_gap": null,
            "grid_row": null,
            "grid_template_areas": null,
            "grid_template_columns": null,
            "grid_template_rows": null,
            "height": null,
            "justify_content": null,
            "justify_items": null,
            "left": null,
            "margin": null,
            "max_height": null,
            "max_width": null,
            "min_height": null,
            "min_width": null,
            "object_fit": null,
            "object_position": null,
            "order": null,
            "overflow": null,
            "overflow_x": null,
            "overflow_y": null,
            "padding": null,
            "right": null,
            "top": null,
            "visibility": null,
            "width": null
          }
        },
        "44285a7623f6444abb291f6ba3db5c66": {
          "model_module": "@jupyter-widgets/base",
          "model_name": "LayoutModel",
          "model_module_version": "1.2.0",
          "state": {
            "_model_module": "@jupyter-widgets/base",
            "_model_module_version": "1.2.0",
            "_model_name": "LayoutModel",
            "_view_count": null,
            "_view_module": "@jupyter-widgets/base",
            "_view_module_version": "1.2.0",
            "_view_name": "LayoutView",
            "align_content": null,
            "align_items": null,
            "align_self": null,
            "border": null,
            "bottom": null,
            "display": null,
            "flex": null,
            "flex_flow": null,
            "grid_area": null,
            "grid_auto_columns": null,
            "grid_auto_flow": null,
            "grid_auto_rows": null,
            "grid_column": null,
            "grid_gap": null,
            "grid_row": null,
            "grid_template_areas": null,
            "grid_template_columns": null,
            "grid_template_rows": null,
            "height": null,
            "justify_content": null,
            "justify_items": null,
            "left": null,
            "margin": null,
            "max_height": null,
            "max_width": null,
            "min_height": null,
            "min_width": null,
            "object_fit": null,
            "object_position": null,
            "order": null,
            "overflow": null,
            "overflow_x": null,
            "overflow_y": null,
            "padding": null,
            "right": null,
            "top": null,
            "visibility": null,
            "width": null
          }
        },
        "f76bb42571424c698318653219ab77ae": {
          "model_module": "@jupyter-widgets/controls",
          "model_name": "DescriptionStyleModel",
          "model_module_version": "1.5.0",
          "state": {
            "_model_module": "@jupyter-widgets/controls",
            "_model_module_version": "1.5.0",
            "_model_name": "DescriptionStyleModel",
            "_view_count": null,
            "_view_module": "@jupyter-widgets/base",
            "_view_module_version": "1.2.0",
            "_view_name": "StyleView",
            "description_width": ""
          }
        },
        "b4eacfbcf7664a2cabace138b2cc1e43": {
          "model_module": "@jupyter-widgets/base",
          "model_name": "LayoutModel",
          "model_module_version": "1.2.0",
          "state": {
            "_model_module": "@jupyter-widgets/base",
            "_model_module_version": "1.2.0",
            "_model_name": "LayoutModel",
            "_view_count": null,
            "_view_module": "@jupyter-widgets/base",
            "_view_module_version": "1.2.0",
            "_view_name": "LayoutView",
            "align_content": null,
            "align_items": null,
            "align_self": null,
            "border": null,
            "bottom": null,
            "display": null,
            "flex": null,
            "flex_flow": null,
            "grid_area": null,
            "grid_auto_columns": null,
            "grid_auto_flow": null,
            "grid_auto_rows": null,
            "grid_column": null,
            "grid_gap": null,
            "grid_row": null,
            "grid_template_areas": null,
            "grid_template_columns": null,
            "grid_template_rows": null,
            "height": null,
            "justify_content": null,
            "justify_items": null,
            "left": null,
            "margin": null,
            "max_height": null,
            "max_width": null,
            "min_height": null,
            "min_width": null,
            "object_fit": null,
            "object_position": null,
            "order": null,
            "overflow": null,
            "overflow_x": null,
            "overflow_y": null,
            "padding": null,
            "right": null,
            "top": null,
            "visibility": null,
            "width": null
          }
        },
        "6e7367f9c6c54621861fa79511804035": {
          "model_module": "@jupyter-widgets/controls",
          "model_name": "ProgressStyleModel",
          "model_module_version": "1.5.0",
          "state": {
            "_model_module": "@jupyter-widgets/controls",
            "_model_module_version": "1.5.0",
            "_model_name": "ProgressStyleModel",
            "_view_count": null,
            "_view_module": "@jupyter-widgets/base",
            "_view_module_version": "1.2.0",
            "_view_name": "StyleView",
            "bar_color": null,
            "description_width": ""
          }
        },
        "e98457d292d346419208a9240be99136": {
          "model_module": "@jupyter-widgets/base",
          "model_name": "LayoutModel",
          "model_module_version": "1.2.0",
          "state": {
            "_model_module": "@jupyter-widgets/base",
            "_model_module_version": "1.2.0",
            "_model_name": "LayoutModel",
            "_view_count": null,
            "_view_module": "@jupyter-widgets/base",
            "_view_module_version": "1.2.0",
            "_view_name": "LayoutView",
            "align_content": null,
            "align_items": null,
            "align_self": null,
            "border": null,
            "bottom": null,
            "display": null,
            "flex": null,
            "flex_flow": null,
            "grid_area": null,
            "grid_auto_columns": null,
            "grid_auto_flow": null,
            "grid_auto_rows": null,
            "grid_column": null,
            "grid_gap": null,
            "grid_row": null,
            "grid_template_areas": null,
            "grid_template_columns": null,
            "grid_template_rows": null,
            "height": null,
            "justify_content": null,
            "justify_items": null,
            "left": null,
            "margin": null,
            "max_height": null,
            "max_width": null,
            "min_height": null,
            "min_width": null,
            "object_fit": null,
            "object_position": null,
            "order": null,
            "overflow": null,
            "overflow_x": null,
            "overflow_y": null,
            "padding": null,
            "right": null,
            "top": null,
            "visibility": null,
            "width": null
          }
        },
        "ab603b4fd262430fa98c53c3d673901b": {
          "model_module": "@jupyter-widgets/controls",
          "model_name": "DescriptionStyleModel",
          "model_module_version": "1.5.0",
          "state": {
            "_model_module": "@jupyter-widgets/controls",
            "_model_module_version": "1.5.0",
            "_model_name": "DescriptionStyleModel",
            "_view_count": null,
            "_view_module": "@jupyter-widgets/base",
            "_view_module_version": "1.2.0",
            "_view_name": "StyleView",
            "description_width": ""
          }
        },
        "d7c888ab358249f0b03c79abb56d3d8b": {
          "model_module": "@jupyter-widgets/controls",
          "model_name": "HBoxModel",
          "model_module_version": "1.5.0",
          "state": {
            "_dom_classes": [],
            "_model_module": "@jupyter-widgets/controls",
            "_model_module_version": "1.5.0",
            "_model_name": "HBoxModel",
            "_view_count": null,
            "_view_module": "@jupyter-widgets/controls",
            "_view_module_version": "1.5.0",
            "_view_name": "HBoxView",
            "box_style": "",
            "children": [
              "IPY_MODEL_4755274ac6754cacb527d353bb8cf74f",
              "IPY_MODEL_4b956e8ab1474e30b28e36a58ff0da4a",
              "IPY_MODEL_a47fccbc623842828decf67f41ee8b34"
            ],
            "layout": "IPY_MODEL_adce8f1145684569a1ca4dc892b874ce"
          }
        },
        "4755274ac6754cacb527d353bb8cf74f": {
          "model_module": "@jupyter-widgets/controls",
          "model_name": "HTMLModel",
          "model_module_version": "1.5.0",
          "state": {
            "_dom_classes": [],
            "_model_module": "@jupyter-widgets/controls",
            "_model_module_version": "1.5.0",
            "_model_name": "HTMLModel",
            "_view_count": null,
            "_view_module": "@jupyter-widgets/controls",
            "_view_module_version": "1.5.0",
            "_view_name": "HTMLView",
            "description": "",
            "description_tooltip": null,
            "layout": "IPY_MODEL_9edf19ce11f84537adbeae865fbc4fc8",
            "placeholder": "​",
            "style": "IPY_MODEL_f3acf37e3cbe459b92ad5260d2f2ab57",
            "value": "Downloading: 100%"
          }
        },
        "4b956e8ab1474e30b28e36a58ff0da4a": {
          "model_module": "@jupyter-widgets/controls",
          "model_name": "FloatProgressModel",
          "model_module_version": "1.5.0",
          "state": {
            "_dom_classes": [],
            "_model_module": "@jupyter-widgets/controls",
            "_model_module_version": "1.5.0",
            "_model_name": "FloatProgressModel",
            "_view_count": null,
            "_view_module": "@jupyter-widgets/controls",
            "_view_module_version": "1.5.0",
            "_view_name": "ProgressView",
            "bar_style": "success",
            "description": "",
            "description_tooltip": null,
            "layout": "IPY_MODEL_0c0738455b05449f90c60dfaed77baca",
            "max": 466062,
            "min": 0,
            "orientation": "horizontal",
            "style": "IPY_MODEL_9b6228e403f74810ba2122e462a69c7a",
            "value": 466062
          }
        },
        "a47fccbc623842828decf67f41ee8b34": {
          "model_module": "@jupyter-widgets/controls",
          "model_name": "HTMLModel",
          "model_module_version": "1.5.0",
          "state": {
            "_dom_classes": [],
            "_model_module": "@jupyter-widgets/controls",
            "_model_module_version": "1.5.0",
            "_model_name": "HTMLModel",
            "_view_count": null,
            "_view_module": "@jupyter-widgets/controls",
            "_view_module_version": "1.5.0",
            "_view_name": "HTMLView",
            "description": "",
            "description_tooltip": null,
            "layout": "IPY_MODEL_341aef3223c54e7e8e60dc4811a2b329",
            "placeholder": "​",
            "style": "IPY_MODEL_dce5b423a74643e08a0cf1ae510db6e2",
            "value": " 455k/455k [00:00&lt;00:00, 889kB/s]"
          }
        },
        "adce8f1145684569a1ca4dc892b874ce": {
          "model_module": "@jupyter-widgets/base",
          "model_name": "LayoutModel",
          "model_module_version": "1.2.0",
          "state": {
            "_model_module": "@jupyter-widgets/base",
            "_model_module_version": "1.2.0",
            "_model_name": "LayoutModel",
            "_view_count": null,
            "_view_module": "@jupyter-widgets/base",
            "_view_module_version": "1.2.0",
            "_view_name": "LayoutView",
            "align_content": null,
            "align_items": null,
            "align_self": null,
            "border": null,
            "bottom": null,
            "display": null,
            "flex": null,
            "flex_flow": null,
            "grid_area": null,
            "grid_auto_columns": null,
            "grid_auto_flow": null,
            "grid_auto_rows": null,
            "grid_column": null,
            "grid_gap": null,
            "grid_row": null,
            "grid_template_areas": null,
            "grid_template_columns": null,
            "grid_template_rows": null,
            "height": null,
            "justify_content": null,
            "justify_items": null,
            "left": null,
            "margin": null,
            "max_height": null,
            "max_width": null,
            "min_height": null,
            "min_width": null,
            "object_fit": null,
            "object_position": null,
            "order": null,
            "overflow": null,
            "overflow_x": null,
            "overflow_y": null,
            "padding": null,
            "right": null,
            "top": null,
            "visibility": null,
            "width": null
          }
        },
        "9edf19ce11f84537adbeae865fbc4fc8": {
          "model_module": "@jupyter-widgets/base",
          "model_name": "LayoutModel",
          "model_module_version": "1.2.0",
          "state": {
            "_model_module": "@jupyter-widgets/base",
            "_model_module_version": "1.2.0",
            "_model_name": "LayoutModel",
            "_view_count": null,
            "_view_module": "@jupyter-widgets/base",
            "_view_module_version": "1.2.0",
            "_view_name": "LayoutView",
            "align_content": null,
            "align_items": null,
            "align_self": null,
            "border": null,
            "bottom": null,
            "display": null,
            "flex": null,
            "flex_flow": null,
            "grid_area": null,
            "grid_auto_columns": null,
            "grid_auto_flow": null,
            "grid_auto_rows": null,
            "grid_column": null,
            "grid_gap": null,
            "grid_row": null,
            "grid_template_areas": null,
            "grid_template_columns": null,
            "grid_template_rows": null,
            "height": null,
            "justify_content": null,
            "justify_items": null,
            "left": null,
            "margin": null,
            "max_height": null,
            "max_width": null,
            "min_height": null,
            "min_width": null,
            "object_fit": null,
            "object_position": null,
            "order": null,
            "overflow": null,
            "overflow_x": null,
            "overflow_y": null,
            "padding": null,
            "right": null,
            "top": null,
            "visibility": null,
            "width": null
          }
        },
        "f3acf37e3cbe459b92ad5260d2f2ab57": {
          "model_module": "@jupyter-widgets/controls",
          "model_name": "DescriptionStyleModel",
          "model_module_version": "1.5.0",
          "state": {
            "_model_module": "@jupyter-widgets/controls",
            "_model_module_version": "1.5.0",
            "_model_name": "DescriptionStyleModel",
            "_view_count": null,
            "_view_module": "@jupyter-widgets/base",
            "_view_module_version": "1.2.0",
            "_view_name": "StyleView",
            "description_width": ""
          }
        },
        "0c0738455b05449f90c60dfaed77baca": {
          "model_module": "@jupyter-widgets/base",
          "model_name": "LayoutModel",
          "model_module_version": "1.2.0",
          "state": {
            "_model_module": "@jupyter-widgets/base",
            "_model_module_version": "1.2.0",
            "_model_name": "LayoutModel",
            "_view_count": null,
            "_view_module": "@jupyter-widgets/base",
            "_view_module_version": "1.2.0",
            "_view_name": "LayoutView",
            "align_content": null,
            "align_items": null,
            "align_self": null,
            "border": null,
            "bottom": null,
            "display": null,
            "flex": null,
            "flex_flow": null,
            "grid_area": null,
            "grid_auto_columns": null,
            "grid_auto_flow": null,
            "grid_auto_rows": null,
            "grid_column": null,
            "grid_gap": null,
            "grid_row": null,
            "grid_template_areas": null,
            "grid_template_columns": null,
            "grid_template_rows": null,
            "height": null,
            "justify_content": null,
            "justify_items": null,
            "left": null,
            "margin": null,
            "max_height": null,
            "max_width": null,
            "min_height": null,
            "min_width": null,
            "object_fit": null,
            "object_position": null,
            "order": null,
            "overflow": null,
            "overflow_x": null,
            "overflow_y": null,
            "padding": null,
            "right": null,
            "top": null,
            "visibility": null,
            "width": null
          }
        },
        "9b6228e403f74810ba2122e462a69c7a": {
          "model_module": "@jupyter-widgets/controls",
          "model_name": "ProgressStyleModel",
          "model_module_version": "1.5.0",
          "state": {
            "_model_module": "@jupyter-widgets/controls",
            "_model_module_version": "1.5.0",
            "_model_name": "ProgressStyleModel",
            "_view_count": null,
            "_view_module": "@jupyter-widgets/base",
            "_view_module_version": "1.2.0",
            "_view_name": "StyleView",
            "bar_color": null,
            "description_width": ""
          }
        },
        "341aef3223c54e7e8e60dc4811a2b329": {
          "model_module": "@jupyter-widgets/base",
          "model_name": "LayoutModel",
          "model_module_version": "1.2.0",
          "state": {
            "_model_module": "@jupyter-widgets/base",
            "_model_module_version": "1.2.0",
            "_model_name": "LayoutModel",
            "_view_count": null,
            "_view_module": "@jupyter-widgets/base",
            "_view_module_version": "1.2.0",
            "_view_name": "LayoutView",
            "align_content": null,
            "align_items": null,
            "align_self": null,
            "border": null,
            "bottom": null,
            "display": null,
            "flex": null,
            "flex_flow": null,
            "grid_area": null,
            "grid_auto_columns": null,
            "grid_auto_flow": null,
            "grid_auto_rows": null,
            "grid_column": null,
            "grid_gap": null,
            "grid_row": null,
            "grid_template_areas": null,
            "grid_template_columns": null,
            "grid_template_rows": null,
            "height": null,
            "justify_content": null,
            "justify_items": null,
            "left": null,
            "margin": null,
            "max_height": null,
            "max_width": null,
            "min_height": null,
            "min_width": null,
            "object_fit": null,
            "object_position": null,
            "order": null,
            "overflow": null,
            "overflow_x": null,
            "overflow_y": null,
            "padding": null,
            "right": null,
            "top": null,
            "visibility": null,
            "width": null
          }
        },
        "dce5b423a74643e08a0cf1ae510db6e2": {
          "model_module": "@jupyter-widgets/controls",
          "model_name": "DescriptionStyleModel",
          "model_module_version": "1.5.0",
          "state": {
            "_model_module": "@jupyter-widgets/controls",
            "_model_module_version": "1.5.0",
            "_model_name": "DescriptionStyleModel",
            "_view_count": null,
            "_view_module": "@jupyter-widgets/base",
            "_view_module_version": "1.2.0",
            "_view_name": "StyleView",
            "description_width": ""
          }
        },
        "72ad96b990c64ecda781ec42de5c836b": {
          "model_module": "@jupyter-widgets/controls",
          "model_name": "HBoxModel",
          "model_module_version": "1.5.0",
          "state": {
            "_dom_classes": [],
            "_model_module": "@jupyter-widgets/controls",
            "_model_module_version": "1.5.0",
            "_model_name": "HBoxModel",
            "_view_count": null,
            "_view_module": "@jupyter-widgets/controls",
            "_view_module_version": "1.5.0",
            "_view_name": "HBoxView",
            "box_style": "",
            "children": [
              "IPY_MODEL_59b19364270c450fbe47b8073f19c4e0",
              "IPY_MODEL_6b012011dd4c4159b047dc438eb18eca",
              "IPY_MODEL_27997f556acd4443a841143bfa72758c"
            ],
            "layout": "IPY_MODEL_9552cd6626ff4ee8ba95b00ef100de19"
          }
        },
        "59b19364270c450fbe47b8073f19c4e0": {
          "model_module": "@jupyter-widgets/controls",
          "model_name": "HTMLModel",
          "model_module_version": "1.5.0",
          "state": {
            "_dom_classes": [],
            "_model_module": "@jupyter-widgets/controls",
            "_model_module_version": "1.5.0",
            "_model_name": "HTMLModel",
            "_view_count": null,
            "_view_module": "@jupyter-widgets/controls",
            "_view_module_version": "1.5.0",
            "_view_name": "HTMLView",
            "description": "",
            "description_tooltip": null,
            "layout": "IPY_MODEL_717ee546d6a8482c9f8afcd17211b69d",
            "placeholder": "​",
            "style": "IPY_MODEL_4a0f0fd7ca1d48c8a2f0e17ccb91d03f",
            "value": "Downloading: 100%"
          }
        },
        "6b012011dd4c4159b047dc438eb18eca": {
          "model_module": "@jupyter-widgets/controls",
          "model_name": "FloatProgressModel",
          "model_module_version": "1.5.0",
          "state": {
            "_dom_classes": [],
            "_model_module": "@jupyter-widgets/controls",
            "_model_module_version": "1.5.0",
            "_model_name": "FloatProgressModel",
            "_view_count": null,
            "_view_module": "@jupyter-widgets/controls",
            "_view_module_version": "1.5.0",
            "_view_name": "ProgressView",
            "bar_style": "success",
            "description": "",
            "description_tooltip": null,
            "layout": "IPY_MODEL_4b59de63f6dc4fbfb470ac1a81665487",
            "max": 28,
            "min": 0,
            "orientation": "horizontal",
            "style": "IPY_MODEL_75fac343c51449be8c369627235c3043",
            "value": 28
          }
        },
        "27997f556acd4443a841143bfa72758c": {
          "model_module": "@jupyter-widgets/controls",
          "model_name": "HTMLModel",
          "model_module_version": "1.5.0",
          "state": {
            "_dom_classes": [],
            "_model_module": "@jupyter-widgets/controls",
            "_model_module_version": "1.5.0",
            "_model_name": "HTMLModel",
            "_view_count": null,
            "_view_module": "@jupyter-widgets/controls",
            "_view_module_version": "1.5.0",
            "_view_name": "HTMLView",
            "description": "",
            "description_tooltip": null,
            "layout": "IPY_MODEL_edab704dec7a462f9059b63dd7cd654c",
            "placeholder": "​",
            "style": "IPY_MODEL_f72815c2f7fe4d748b3d26aa216abe19",
            "value": " 28.0/28.0 [00:00&lt;00:00, 289B/s]"
          }
        },
        "9552cd6626ff4ee8ba95b00ef100de19": {
          "model_module": "@jupyter-widgets/base",
          "model_name": "LayoutModel",
          "model_module_version": "1.2.0",
          "state": {
            "_model_module": "@jupyter-widgets/base",
            "_model_module_version": "1.2.0",
            "_model_name": "LayoutModel",
            "_view_count": null,
            "_view_module": "@jupyter-widgets/base",
            "_view_module_version": "1.2.0",
            "_view_name": "LayoutView",
            "align_content": null,
            "align_items": null,
            "align_self": null,
            "border": null,
            "bottom": null,
            "display": null,
            "flex": null,
            "flex_flow": null,
            "grid_area": null,
            "grid_auto_columns": null,
            "grid_auto_flow": null,
            "grid_auto_rows": null,
            "grid_column": null,
            "grid_gap": null,
            "grid_row": null,
            "grid_template_areas": null,
            "grid_template_columns": null,
            "grid_template_rows": null,
            "height": null,
            "justify_content": null,
            "justify_items": null,
            "left": null,
            "margin": null,
            "max_height": null,
            "max_width": null,
            "min_height": null,
            "min_width": null,
            "object_fit": null,
            "object_position": null,
            "order": null,
            "overflow": null,
            "overflow_x": null,
            "overflow_y": null,
            "padding": null,
            "right": null,
            "top": null,
            "visibility": null,
            "width": null
          }
        },
        "717ee546d6a8482c9f8afcd17211b69d": {
          "model_module": "@jupyter-widgets/base",
          "model_name": "LayoutModel",
          "model_module_version": "1.2.0",
          "state": {
            "_model_module": "@jupyter-widgets/base",
            "_model_module_version": "1.2.0",
            "_model_name": "LayoutModel",
            "_view_count": null,
            "_view_module": "@jupyter-widgets/base",
            "_view_module_version": "1.2.0",
            "_view_name": "LayoutView",
            "align_content": null,
            "align_items": null,
            "align_self": null,
            "border": null,
            "bottom": null,
            "display": null,
            "flex": null,
            "flex_flow": null,
            "grid_area": null,
            "grid_auto_columns": null,
            "grid_auto_flow": null,
            "grid_auto_rows": null,
            "grid_column": null,
            "grid_gap": null,
            "grid_row": null,
            "grid_template_areas": null,
            "grid_template_columns": null,
            "grid_template_rows": null,
            "height": null,
            "justify_content": null,
            "justify_items": null,
            "left": null,
            "margin": null,
            "max_height": null,
            "max_width": null,
            "min_height": null,
            "min_width": null,
            "object_fit": null,
            "object_position": null,
            "order": null,
            "overflow": null,
            "overflow_x": null,
            "overflow_y": null,
            "padding": null,
            "right": null,
            "top": null,
            "visibility": null,
            "width": null
          }
        },
        "4a0f0fd7ca1d48c8a2f0e17ccb91d03f": {
          "model_module": "@jupyter-widgets/controls",
          "model_name": "DescriptionStyleModel",
          "model_module_version": "1.5.0",
          "state": {
            "_model_module": "@jupyter-widgets/controls",
            "_model_module_version": "1.5.0",
            "_model_name": "DescriptionStyleModel",
            "_view_count": null,
            "_view_module": "@jupyter-widgets/base",
            "_view_module_version": "1.2.0",
            "_view_name": "StyleView",
            "description_width": ""
          }
        },
        "4b59de63f6dc4fbfb470ac1a81665487": {
          "model_module": "@jupyter-widgets/base",
          "model_name": "LayoutModel",
          "model_module_version": "1.2.0",
          "state": {
            "_model_module": "@jupyter-widgets/base",
            "_model_module_version": "1.2.0",
            "_model_name": "LayoutModel",
            "_view_count": null,
            "_view_module": "@jupyter-widgets/base",
            "_view_module_version": "1.2.0",
            "_view_name": "LayoutView",
            "align_content": null,
            "align_items": null,
            "align_self": null,
            "border": null,
            "bottom": null,
            "display": null,
            "flex": null,
            "flex_flow": null,
            "grid_area": null,
            "grid_auto_columns": null,
            "grid_auto_flow": null,
            "grid_auto_rows": null,
            "grid_column": null,
            "grid_gap": null,
            "grid_row": null,
            "grid_template_areas": null,
            "grid_template_columns": null,
            "grid_template_rows": null,
            "height": null,
            "justify_content": null,
            "justify_items": null,
            "left": null,
            "margin": null,
            "max_height": null,
            "max_width": null,
            "min_height": null,
            "min_width": null,
            "object_fit": null,
            "object_position": null,
            "order": null,
            "overflow": null,
            "overflow_x": null,
            "overflow_y": null,
            "padding": null,
            "right": null,
            "top": null,
            "visibility": null,
            "width": null
          }
        },
        "75fac343c51449be8c369627235c3043": {
          "model_module": "@jupyter-widgets/controls",
          "model_name": "ProgressStyleModel",
          "model_module_version": "1.5.0",
          "state": {
            "_model_module": "@jupyter-widgets/controls",
            "_model_module_version": "1.5.0",
            "_model_name": "ProgressStyleModel",
            "_view_count": null,
            "_view_module": "@jupyter-widgets/base",
            "_view_module_version": "1.2.0",
            "_view_name": "StyleView",
            "bar_color": null,
            "description_width": ""
          }
        },
        "edab704dec7a462f9059b63dd7cd654c": {
          "model_module": "@jupyter-widgets/base",
          "model_name": "LayoutModel",
          "model_module_version": "1.2.0",
          "state": {
            "_model_module": "@jupyter-widgets/base",
            "_model_module_version": "1.2.0",
            "_model_name": "LayoutModel",
            "_view_count": null,
            "_view_module": "@jupyter-widgets/base",
            "_view_module_version": "1.2.0",
            "_view_name": "LayoutView",
            "align_content": null,
            "align_items": null,
            "align_self": null,
            "border": null,
            "bottom": null,
            "display": null,
            "flex": null,
            "flex_flow": null,
            "grid_area": null,
            "grid_auto_columns": null,
            "grid_auto_flow": null,
            "grid_auto_rows": null,
            "grid_column": null,
            "grid_gap": null,
            "grid_row": null,
            "grid_template_areas": null,
            "grid_template_columns": null,
            "grid_template_rows": null,
            "height": null,
            "justify_content": null,
            "justify_items": null,
            "left": null,
            "margin": null,
            "max_height": null,
            "max_width": null,
            "min_height": null,
            "min_width": null,
            "object_fit": null,
            "object_position": null,
            "order": null,
            "overflow": null,
            "overflow_x": null,
            "overflow_y": null,
            "padding": null,
            "right": null,
            "top": null,
            "visibility": null,
            "width": null
          }
        },
        "f72815c2f7fe4d748b3d26aa216abe19": {
          "model_module": "@jupyter-widgets/controls",
          "model_name": "DescriptionStyleModel",
          "model_module_version": "1.5.0",
          "state": {
            "_model_module": "@jupyter-widgets/controls",
            "_model_module_version": "1.5.0",
            "_model_name": "DescriptionStyleModel",
            "_view_count": null,
            "_view_module": "@jupyter-widgets/base",
            "_view_module_version": "1.2.0",
            "_view_name": "StyleView",
            "description_width": ""
          }
        },
        "00265c04c3104f148a27aff92455837b": {
          "model_module": "@jupyter-widgets/controls",
          "model_name": "HBoxModel",
          "model_module_version": "1.5.0",
          "state": {
            "_dom_classes": [],
            "_model_module": "@jupyter-widgets/controls",
            "_model_module_version": "1.5.0",
            "_model_name": "HBoxModel",
            "_view_count": null,
            "_view_module": "@jupyter-widgets/controls",
            "_view_module_version": "1.5.0",
            "_view_name": "HBoxView",
            "box_style": "",
            "children": [
              "IPY_MODEL_6cc9d6e7ba1849b089c087f6a65ff11b",
              "IPY_MODEL_fcc9a4344fd44779aaeaaf85e84835d7",
              "IPY_MODEL_fecc39a3d6ae4981bad0c5d0d10143e6"
            ],
            "layout": "IPY_MODEL_d3d8704baca34839ad295aa97a909393"
          }
        },
        "6cc9d6e7ba1849b089c087f6a65ff11b": {
          "model_module": "@jupyter-widgets/controls",
          "model_name": "HTMLModel",
          "model_module_version": "1.5.0",
          "state": {
            "_dom_classes": [],
            "_model_module": "@jupyter-widgets/controls",
            "_model_module_version": "1.5.0",
            "_model_name": "HTMLModel",
            "_view_count": null,
            "_view_module": "@jupyter-widgets/controls",
            "_view_module_version": "1.5.0",
            "_view_name": "HTMLView",
            "description": "",
            "description_tooltip": null,
            "layout": "IPY_MODEL_13758f8a167f484a85949781a2abcf81",
            "placeholder": "​",
            "style": "IPY_MODEL_83c7c028bef0456ba53968b782b742d3",
            "value": "Downloading: 100%"
          }
        },
        "fcc9a4344fd44779aaeaaf85e84835d7": {
          "model_module": "@jupyter-widgets/controls",
          "model_name": "FloatProgressModel",
          "model_module_version": "1.5.0",
          "state": {
            "_dom_classes": [],
            "_model_module": "@jupyter-widgets/controls",
            "_model_module_version": "1.5.0",
            "_model_name": "FloatProgressModel",
            "_view_count": null,
            "_view_module": "@jupyter-widgets/controls",
            "_view_module_version": "1.5.0",
            "_view_name": "ProgressView",
            "bar_style": "success",
            "description": "",
            "description_tooltip": null,
            "layout": "IPY_MODEL_975104a0ff974a26a20362a35d2a0925",
            "max": 570,
            "min": 0,
            "orientation": "horizontal",
            "style": "IPY_MODEL_3757a1c6276d4693896ca03bc07ee8d4",
            "value": 570
          }
        },
        "fecc39a3d6ae4981bad0c5d0d10143e6": {
          "model_module": "@jupyter-widgets/controls",
          "model_name": "HTMLModel",
          "model_module_version": "1.5.0",
          "state": {
            "_dom_classes": [],
            "_model_module": "@jupyter-widgets/controls",
            "_model_module_version": "1.5.0",
            "_model_name": "HTMLModel",
            "_view_count": null,
            "_view_module": "@jupyter-widgets/controls",
            "_view_module_version": "1.5.0",
            "_view_name": "HTMLView",
            "description": "",
            "description_tooltip": null,
            "layout": "IPY_MODEL_215ec4349f6b49b490f86ebfcc06f316",
            "placeholder": "​",
            "style": "IPY_MODEL_594ce41907a34fa396f4e20a0613b3c8",
            "value": " 570/570 [00:00&lt;00:00, 6.90kB/s]"
          }
        },
        "d3d8704baca34839ad295aa97a909393": {
          "model_module": "@jupyter-widgets/base",
          "model_name": "LayoutModel",
          "model_module_version": "1.2.0",
          "state": {
            "_model_module": "@jupyter-widgets/base",
            "_model_module_version": "1.2.0",
            "_model_name": "LayoutModel",
            "_view_count": null,
            "_view_module": "@jupyter-widgets/base",
            "_view_module_version": "1.2.0",
            "_view_name": "LayoutView",
            "align_content": null,
            "align_items": null,
            "align_self": null,
            "border": null,
            "bottom": null,
            "display": null,
            "flex": null,
            "flex_flow": null,
            "grid_area": null,
            "grid_auto_columns": null,
            "grid_auto_flow": null,
            "grid_auto_rows": null,
            "grid_column": null,
            "grid_gap": null,
            "grid_row": null,
            "grid_template_areas": null,
            "grid_template_columns": null,
            "grid_template_rows": null,
            "height": null,
            "justify_content": null,
            "justify_items": null,
            "left": null,
            "margin": null,
            "max_height": null,
            "max_width": null,
            "min_height": null,
            "min_width": null,
            "object_fit": null,
            "object_position": null,
            "order": null,
            "overflow": null,
            "overflow_x": null,
            "overflow_y": null,
            "padding": null,
            "right": null,
            "top": null,
            "visibility": null,
            "width": null
          }
        },
        "13758f8a167f484a85949781a2abcf81": {
          "model_module": "@jupyter-widgets/base",
          "model_name": "LayoutModel",
          "model_module_version": "1.2.0",
          "state": {
            "_model_module": "@jupyter-widgets/base",
            "_model_module_version": "1.2.0",
            "_model_name": "LayoutModel",
            "_view_count": null,
            "_view_module": "@jupyter-widgets/base",
            "_view_module_version": "1.2.0",
            "_view_name": "LayoutView",
            "align_content": null,
            "align_items": null,
            "align_self": null,
            "border": null,
            "bottom": null,
            "display": null,
            "flex": null,
            "flex_flow": null,
            "grid_area": null,
            "grid_auto_columns": null,
            "grid_auto_flow": null,
            "grid_auto_rows": null,
            "grid_column": null,
            "grid_gap": null,
            "grid_row": null,
            "grid_template_areas": null,
            "grid_template_columns": null,
            "grid_template_rows": null,
            "height": null,
            "justify_content": null,
            "justify_items": null,
            "left": null,
            "margin": null,
            "max_height": null,
            "max_width": null,
            "min_height": null,
            "min_width": null,
            "object_fit": null,
            "object_position": null,
            "order": null,
            "overflow": null,
            "overflow_x": null,
            "overflow_y": null,
            "padding": null,
            "right": null,
            "top": null,
            "visibility": null,
            "width": null
          }
        },
        "83c7c028bef0456ba53968b782b742d3": {
          "model_module": "@jupyter-widgets/controls",
          "model_name": "DescriptionStyleModel",
          "model_module_version": "1.5.0",
          "state": {
            "_model_module": "@jupyter-widgets/controls",
            "_model_module_version": "1.5.0",
            "_model_name": "DescriptionStyleModel",
            "_view_count": null,
            "_view_module": "@jupyter-widgets/base",
            "_view_module_version": "1.2.0",
            "_view_name": "StyleView",
            "description_width": ""
          }
        },
        "975104a0ff974a26a20362a35d2a0925": {
          "model_module": "@jupyter-widgets/base",
          "model_name": "LayoutModel",
          "model_module_version": "1.2.0",
          "state": {
            "_model_module": "@jupyter-widgets/base",
            "_model_module_version": "1.2.0",
            "_model_name": "LayoutModel",
            "_view_count": null,
            "_view_module": "@jupyter-widgets/base",
            "_view_module_version": "1.2.0",
            "_view_name": "LayoutView",
            "align_content": null,
            "align_items": null,
            "align_self": null,
            "border": null,
            "bottom": null,
            "display": null,
            "flex": null,
            "flex_flow": null,
            "grid_area": null,
            "grid_auto_columns": null,
            "grid_auto_flow": null,
            "grid_auto_rows": null,
            "grid_column": null,
            "grid_gap": null,
            "grid_row": null,
            "grid_template_areas": null,
            "grid_template_columns": null,
            "grid_template_rows": null,
            "height": null,
            "justify_content": null,
            "justify_items": null,
            "left": null,
            "margin": null,
            "max_height": null,
            "max_width": null,
            "min_height": null,
            "min_width": null,
            "object_fit": null,
            "object_position": null,
            "order": null,
            "overflow": null,
            "overflow_x": null,
            "overflow_y": null,
            "padding": null,
            "right": null,
            "top": null,
            "visibility": null,
            "width": null
          }
        },
        "3757a1c6276d4693896ca03bc07ee8d4": {
          "model_module": "@jupyter-widgets/controls",
          "model_name": "ProgressStyleModel",
          "model_module_version": "1.5.0",
          "state": {
            "_model_module": "@jupyter-widgets/controls",
            "_model_module_version": "1.5.0",
            "_model_name": "ProgressStyleModel",
            "_view_count": null,
            "_view_module": "@jupyter-widgets/base",
            "_view_module_version": "1.2.0",
            "_view_name": "StyleView",
            "bar_color": null,
            "description_width": ""
          }
        },
        "215ec4349f6b49b490f86ebfcc06f316": {
          "model_module": "@jupyter-widgets/base",
          "model_name": "LayoutModel",
          "model_module_version": "1.2.0",
          "state": {
            "_model_module": "@jupyter-widgets/base",
            "_model_module_version": "1.2.0",
            "_model_name": "LayoutModel",
            "_view_count": null,
            "_view_module": "@jupyter-widgets/base",
            "_view_module_version": "1.2.0",
            "_view_name": "LayoutView",
            "align_content": null,
            "align_items": null,
            "align_self": null,
            "border": null,
            "bottom": null,
            "display": null,
            "flex": null,
            "flex_flow": null,
            "grid_area": null,
            "grid_auto_columns": null,
            "grid_auto_flow": null,
            "grid_auto_rows": null,
            "grid_column": null,
            "grid_gap": null,
            "grid_row": null,
            "grid_template_areas": null,
            "grid_template_columns": null,
            "grid_template_rows": null,
            "height": null,
            "justify_content": null,
            "justify_items": null,
            "left": null,
            "margin": null,
            "max_height": null,
            "max_width": null,
            "min_height": null,
            "min_width": null,
            "object_fit": null,
            "object_position": null,
            "order": null,
            "overflow": null,
            "overflow_x": null,
            "overflow_y": null,
            "padding": null,
            "right": null,
            "top": null,
            "visibility": null,
            "width": null
          }
        },
        "594ce41907a34fa396f4e20a0613b3c8": {
          "model_module": "@jupyter-widgets/controls",
          "model_name": "DescriptionStyleModel",
          "model_module_version": "1.5.0",
          "state": {
            "_model_module": "@jupyter-widgets/controls",
            "_model_module_version": "1.5.0",
            "_model_name": "DescriptionStyleModel",
            "_view_count": null,
            "_view_module": "@jupyter-widgets/base",
            "_view_module_version": "1.2.0",
            "_view_name": "StyleView",
            "description_width": ""
          }
        },
        "353de9c802be4294bcbd1af2feecb18f": {
          "model_module": "@jupyter-widgets/controls",
          "model_name": "HBoxModel",
          "model_module_version": "1.5.0",
          "state": {
            "_dom_classes": [],
            "_model_module": "@jupyter-widgets/controls",
            "_model_module_version": "1.5.0",
            "_model_name": "HBoxModel",
            "_view_count": null,
            "_view_module": "@jupyter-widgets/controls",
            "_view_module_version": "1.5.0",
            "_view_name": "HBoxView",
            "box_style": "",
            "children": [
              "IPY_MODEL_4a4c0623dbc04e0ab95816418650347c",
              "IPY_MODEL_23e4bdaa9f054068a1b61d14bc0084aa",
              "IPY_MODEL_abfd95d402074952a4ce1606af9f9c66"
            ],
            "layout": "IPY_MODEL_6e6b561a060b407d92f7038f69cf6776"
          }
        },
        "4a4c0623dbc04e0ab95816418650347c": {
          "model_module": "@jupyter-widgets/controls",
          "model_name": "HTMLModel",
          "model_module_version": "1.5.0",
          "state": {
            "_dom_classes": [],
            "_model_module": "@jupyter-widgets/controls",
            "_model_module_version": "1.5.0",
            "_model_name": "HTMLModel",
            "_view_count": null,
            "_view_module": "@jupyter-widgets/controls",
            "_view_module_version": "1.5.0",
            "_view_name": "HTMLView",
            "description": "",
            "description_tooltip": null,
            "layout": "IPY_MODEL_676e83fc581e4bb38425a5f0fb588b4c",
            "placeholder": "​",
            "style": "IPY_MODEL_737c1c8d4d474cd08c049d070953011a",
            "value": "Downloading: 100%"
          }
        },
        "23e4bdaa9f054068a1b61d14bc0084aa": {
          "model_module": "@jupyter-widgets/controls",
          "model_name": "FloatProgressModel",
          "model_module_version": "1.5.0",
          "state": {
            "_dom_classes": [],
            "_model_module": "@jupyter-widgets/controls",
            "_model_module_version": "1.5.0",
            "_model_name": "FloatProgressModel",
            "_view_count": null,
            "_view_module": "@jupyter-widgets/controls",
            "_view_module_version": "1.5.0",
            "_view_name": "ProgressView",
            "bar_style": "success",
            "description": "",
            "description_tooltip": null,
            "layout": "IPY_MODEL_a7999a2a34734bce953ac5a370bd7a35",
            "max": 231508,
            "min": 0,
            "orientation": "horizontal",
            "style": "IPY_MODEL_6d6154a8e9244347bb70075ce11bf9fa",
            "value": 231508
          }
        },
        "abfd95d402074952a4ce1606af9f9c66": {
          "model_module": "@jupyter-widgets/controls",
          "model_name": "HTMLModel",
          "model_module_version": "1.5.0",
          "state": {
            "_dom_classes": [],
            "_model_module": "@jupyter-widgets/controls",
            "_model_module_version": "1.5.0",
            "_model_name": "HTMLModel",
            "_view_count": null,
            "_view_module": "@jupyter-widgets/controls",
            "_view_module_version": "1.5.0",
            "_view_name": "HTMLView",
            "description": "",
            "description_tooltip": null,
            "layout": "IPY_MODEL_238bc3c6a39044799619a0b316b3549e",
            "placeholder": "​",
            "style": "IPY_MODEL_032ea4150ed3411f9ceb4316fbfac78c",
            "value": " 226k/226k [00:00&lt;00:00, 9.45kB/s]"
          }
        },
        "6e6b561a060b407d92f7038f69cf6776": {
          "model_module": "@jupyter-widgets/base",
          "model_name": "LayoutModel",
          "model_module_version": "1.2.0",
          "state": {
            "_model_module": "@jupyter-widgets/base",
            "_model_module_version": "1.2.0",
            "_model_name": "LayoutModel",
            "_view_count": null,
            "_view_module": "@jupyter-widgets/base",
            "_view_module_version": "1.2.0",
            "_view_name": "LayoutView",
            "align_content": null,
            "align_items": null,
            "align_self": null,
            "border": null,
            "bottom": null,
            "display": null,
            "flex": null,
            "flex_flow": null,
            "grid_area": null,
            "grid_auto_columns": null,
            "grid_auto_flow": null,
            "grid_auto_rows": null,
            "grid_column": null,
            "grid_gap": null,
            "grid_row": null,
            "grid_template_areas": null,
            "grid_template_columns": null,
            "grid_template_rows": null,
            "height": null,
            "justify_content": null,
            "justify_items": null,
            "left": null,
            "margin": null,
            "max_height": null,
            "max_width": null,
            "min_height": null,
            "min_width": null,
            "object_fit": null,
            "object_position": null,
            "order": null,
            "overflow": null,
            "overflow_x": null,
            "overflow_y": null,
            "padding": null,
            "right": null,
            "top": null,
            "visibility": null,
            "width": null
          }
        },
        "676e83fc581e4bb38425a5f0fb588b4c": {
          "model_module": "@jupyter-widgets/base",
          "model_name": "LayoutModel",
          "model_module_version": "1.2.0",
          "state": {
            "_model_module": "@jupyter-widgets/base",
            "_model_module_version": "1.2.0",
            "_model_name": "LayoutModel",
            "_view_count": null,
            "_view_module": "@jupyter-widgets/base",
            "_view_module_version": "1.2.0",
            "_view_name": "LayoutView",
            "align_content": null,
            "align_items": null,
            "align_self": null,
            "border": null,
            "bottom": null,
            "display": null,
            "flex": null,
            "flex_flow": null,
            "grid_area": null,
            "grid_auto_columns": null,
            "grid_auto_flow": null,
            "grid_auto_rows": null,
            "grid_column": null,
            "grid_gap": null,
            "grid_row": null,
            "grid_template_areas": null,
            "grid_template_columns": null,
            "grid_template_rows": null,
            "height": null,
            "justify_content": null,
            "justify_items": null,
            "left": null,
            "margin": null,
            "max_height": null,
            "max_width": null,
            "min_height": null,
            "min_width": null,
            "object_fit": null,
            "object_position": null,
            "order": null,
            "overflow": null,
            "overflow_x": null,
            "overflow_y": null,
            "padding": null,
            "right": null,
            "top": null,
            "visibility": null,
            "width": null
          }
        },
        "737c1c8d4d474cd08c049d070953011a": {
          "model_module": "@jupyter-widgets/controls",
          "model_name": "DescriptionStyleModel",
          "model_module_version": "1.5.0",
          "state": {
            "_model_module": "@jupyter-widgets/controls",
            "_model_module_version": "1.5.0",
            "_model_name": "DescriptionStyleModel",
            "_view_count": null,
            "_view_module": "@jupyter-widgets/base",
            "_view_module_version": "1.2.0",
            "_view_name": "StyleView",
            "description_width": ""
          }
        },
        "a7999a2a34734bce953ac5a370bd7a35": {
          "model_module": "@jupyter-widgets/base",
          "model_name": "LayoutModel",
          "model_module_version": "1.2.0",
          "state": {
            "_model_module": "@jupyter-widgets/base",
            "_model_module_version": "1.2.0",
            "_model_name": "LayoutModel",
            "_view_count": null,
            "_view_module": "@jupyter-widgets/base",
            "_view_module_version": "1.2.0",
            "_view_name": "LayoutView",
            "align_content": null,
            "align_items": null,
            "align_self": null,
            "border": null,
            "bottom": null,
            "display": null,
            "flex": null,
            "flex_flow": null,
            "grid_area": null,
            "grid_auto_columns": null,
            "grid_auto_flow": null,
            "grid_auto_rows": null,
            "grid_column": null,
            "grid_gap": null,
            "grid_row": null,
            "grid_template_areas": null,
            "grid_template_columns": null,
            "grid_template_rows": null,
            "height": null,
            "justify_content": null,
            "justify_items": null,
            "left": null,
            "margin": null,
            "max_height": null,
            "max_width": null,
            "min_height": null,
            "min_width": null,
            "object_fit": null,
            "object_position": null,
            "order": null,
            "overflow": null,
            "overflow_x": null,
            "overflow_y": null,
            "padding": null,
            "right": null,
            "top": null,
            "visibility": null,
            "width": null
          }
        },
        "6d6154a8e9244347bb70075ce11bf9fa": {
          "model_module": "@jupyter-widgets/controls",
          "model_name": "ProgressStyleModel",
          "model_module_version": "1.5.0",
          "state": {
            "_model_module": "@jupyter-widgets/controls",
            "_model_module_version": "1.5.0",
            "_model_name": "ProgressStyleModel",
            "_view_count": null,
            "_view_module": "@jupyter-widgets/base",
            "_view_module_version": "1.2.0",
            "_view_name": "StyleView",
            "bar_color": null,
            "description_width": ""
          }
        },
        "238bc3c6a39044799619a0b316b3549e": {
          "model_module": "@jupyter-widgets/base",
          "model_name": "LayoutModel",
          "model_module_version": "1.2.0",
          "state": {
            "_model_module": "@jupyter-widgets/base",
            "_model_module_version": "1.2.0",
            "_model_name": "LayoutModel",
            "_view_count": null,
            "_view_module": "@jupyter-widgets/base",
            "_view_module_version": "1.2.0",
            "_view_name": "LayoutView",
            "align_content": null,
            "align_items": null,
            "align_self": null,
            "border": null,
            "bottom": null,
            "display": null,
            "flex": null,
            "flex_flow": null,
            "grid_area": null,
            "grid_auto_columns": null,
            "grid_auto_flow": null,
            "grid_auto_rows": null,
            "grid_column": null,
            "grid_gap": null,
            "grid_row": null,
            "grid_template_areas": null,
            "grid_template_columns": null,
            "grid_template_rows": null,
            "height": null,
            "justify_content": null,
            "justify_items": null,
            "left": null,
            "margin": null,
            "max_height": null,
            "max_width": null,
            "min_height": null,
            "min_width": null,
            "object_fit": null,
            "object_position": null,
            "order": null,
            "overflow": null,
            "overflow_x": null,
            "overflow_y": null,
            "padding": null,
            "right": null,
            "top": null,
            "visibility": null,
            "width": null
          }
        },
        "032ea4150ed3411f9ceb4316fbfac78c": {
          "model_module": "@jupyter-widgets/controls",
          "model_name": "DescriptionStyleModel",
          "model_module_version": "1.5.0",
          "state": {
            "_model_module": "@jupyter-widgets/controls",
            "_model_module_version": "1.5.0",
            "_model_name": "DescriptionStyleModel",
            "_view_count": null,
            "_view_module": "@jupyter-widgets/base",
            "_view_module_version": "1.2.0",
            "_view_name": "StyleView",
            "description_width": ""
          }
        },
        "146a084386504861806f131c2f1e54a0": {
          "model_module": "@jupyter-widgets/controls",
          "model_name": "HBoxModel",
          "model_module_version": "1.5.0",
          "state": {
            "_dom_classes": [],
            "_model_module": "@jupyter-widgets/controls",
            "_model_module_version": "1.5.0",
            "_model_name": "HBoxModel",
            "_view_count": null,
            "_view_module": "@jupyter-widgets/controls",
            "_view_module_version": "1.5.0",
            "_view_name": "HBoxView",
            "box_style": "",
            "children": [
              "IPY_MODEL_1b2c0226395146db987df2e228b0c9e7",
              "IPY_MODEL_f111893b1a024a02970e3deb3a62eee5",
              "IPY_MODEL_19ad1cc23afc460e96ed7376f05f0544"
            ],
            "layout": "IPY_MODEL_6bc1fb2eb5d444528ba9eec66966012f"
          }
        },
        "1b2c0226395146db987df2e228b0c9e7": {
          "model_module": "@jupyter-widgets/controls",
          "model_name": "HTMLModel",
          "model_module_version": "1.5.0",
          "state": {
            "_dom_classes": [],
            "_model_module": "@jupyter-widgets/controls",
            "_model_module_version": "1.5.0",
            "_model_name": "HTMLModel",
            "_view_count": null,
            "_view_module": "@jupyter-widgets/controls",
            "_view_module_version": "1.5.0",
            "_view_name": "HTMLView",
            "description": "",
            "description_tooltip": null,
            "layout": "IPY_MODEL_301f8576f56345218c663207127ec863",
            "placeholder": "​",
            "style": "IPY_MODEL_7444373d2f2f42c0b0cb4a6e61021247",
            "value": "Downloading: 100%"
          }
        },
        "f111893b1a024a02970e3deb3a62eee5": {
          "model_module": "@jupyter-widgets/controls",
          "model_name": "FloatProgressModel",
          "model_module_version": "1.5.0",
          "state": {
            "_dom_classes": [],
            "_model_module": "@jupyter-widgets/controls",
            "_model_module_version": "1.5.0",
            "_model_name": "FloatProgressModel",
            "_view_count": null,
            "_view_module": "@jupyter-widgets/controls",
            "_view_module_version": "1.5.0",
            "_view_name": "ProgressView",
            "bar_style": "success",
            "description": "",
            "description_tooltip": null,
            "layout": "IPY_MODEL_8e574fbb04504b238e9e47eece7fce93",
            "max": 466062,
            "min": 0,
            "orientation": "horizontal",
            "style": "IPY_MODEL_ae56a420bcee4fb8b66bd0fc1f42281c",
            "value": 466062
          }
        },
        "19ad1cc23afc460e96ed7376f05f0544": {
          "model_module": "@jupyter-widgets/controls",
          "model_name": "HTMLModel",
          "model_module_version": "1.5.0",
          "state": {
            "_dom_classes": [],
            "_model_module": "@jupyter-widgets/controls",
            "_model_module_version": "1.5.0",
            "_model_name": "HTMLModel",
            "_view_count": null,
            "_view_module": "@jupyter-widgets/controls",
            "_view_module_version": "1.5.0",
            "_view_name": "HTMLView",
            "description": "",
            "description_tooltip": null,
            "layout": "IPY_MODEL_1723fd3020fe456eab09b714868ee8f2",
            "placeholder": "​",
            "style": "IPY_MODEL_35b7923e771c4015818b030ebf78a9c0",
            "value": " 455k/455k [00:00&lt;00:00, 1.26MB/s]"
          }
        },
        "6bc1fb2eb5d444528ba9eec66966012f": {
          "model_module": "@jupyter-widgets/base",
          "model_name": "LayoutModel",
          "model_module_version": "1.2.0",
          "state": {
            "_model_module": "@jupyter-widgets/base",
            "_model_module_version": "1.2.0",
            "_model_name": "LayoutModel",
            "_view_count": null,
            "_view_module": "@jupyter-widgets/base",
            "_view_module_version": "1.2.0",
            "_view_name": "LayoutView",
            "align_content": null,
            "align_items": null,
            "align_self": null,
            "border": null,
            "bottom": null,
            "display": null,
            "flex": null,
            "flex_flow": null,
            "grid_area": null,
            "grid_auto_columns": null,
            "grid_auto_flow": null,
            "grid_auto_rows": null,
            "grid_column": null,
            "grid_gap": null,
            "grid_row": null,
            "grid_template_areas": null,
            "grid_template_columns": null,
            "grid_template_rows": null,
            "height": null,
            "justify_content": null,
            "justify_items": null,
            "left": null,
            "margin": null,
            "max_height": null,
            "max_width": null,
            "min_height": null,
            "min_width": null,
            "object_fit": null,
            "object_position": null,
            "order": null,
            "overflow": null,
            "overflow_x": null,
            "overflow_y": null,
            "padding": null,
            "right": null,
            "top": null,
            "visibility": null,
            "width": null
          }
        },
        "301f8576f56345218c663207127ec863": {
          "model_module": "@jupyter-widgets/base",
          "model_name": "LayoutModel",
          "model_module_version": "1.2.0",
          "state": {
            "_model_module": "@jupyter-widgets/base",
            "_model_module_version": "1.2.0",
            "_model_name": "LayoutModel",
            "_view_count": null,
            "_view_module": "@jupyter-widgets/base",
            "_view_module_version": "1.2.0",
            "_view_name": "LayoutView",
            "align_content": null,
            "align_items": null,
            "align_self": null,
            "border": null,
            "bottom": null,
            "display": null,
            "flex": null,
            "flex_flow": null,
            "grid_area": null,
            "grid_auto_columns": null,
            "grid_auto_flow": null,
            "grid_auto_rows": null,
            "grid_column": null,
            "grid_gap": null,
            "grid_row": null,
            "grid_template_areas": null,
            "grid_template_columns": null,
            "grid_template_rows": null,
            "height": null,
            "justify_content": null,
            "justify_items": null,
            "left": null,
            "margin": null,
            "max_height": null,
            "max_width": null,
            "min_height": null,
            "min_width": null,
            "object_fit": null,
            "object_position": null,
            "order": null,
            "overflow": null,
            "overflow_x": null,
            "overflow_y": null,
            "padding": null,
            "right": null,
            "top": null,
            "visibility": null,
            "width": null
          }
        },
        "7444373d2f2f42c0b0cb4a6e61021247": {
          "model_module": "@jupyter-widgets/controls",
          "model_name": "DescriptionStyleModel",
          "model_module_version": "1.5.0",
          "state": {
            "_model_module": "@jupyter-widgets/controls",
            "_model_module_version": "1.5.0",
            "_model_name": "DescriptionStyleModel",
            "_view_count": null,
            "_view_module": "@jupyter-widgets/base",
            "_view_module_version": "1.2.0",
            "_view_name": "StyleView",
            "description_width": ""
          }
        },
        "8e574fbb04504b238e9e47eece7fce93": {
          "model_module": "@jupyter-widgets/base",
          "model_name": "LayoutModel",
          "model_module_version": "1.2.0",
          "state": {
            "_model_module": "@jupyter-widgets/base",
            "_model_module_version": "1.2.0",
            "_model_name": "LayoutModel",
            "_view_count": null,
            "_view_module": "@jupyter-widgets/base",
            "_view_module_version": "1.2.0",
            "_view_name": "LayoutView",
            "align_content": null,
            "align_items": null,
            "align_self": null,
            "border": null,
            "bottom": null,
            "display": null,
            "flex": null,
            "flex_flow": null,
            "grid_area": null,
            "grid_auto_columns": null,
            "grid_auto_flow": null,
            "grid_auto_rows": null,
            "grid_column": null,
            "grid_gap": null,
            "grid_row": null,
            "grid_template_areas": null,
            "grid_template_columns": null,
            "grid_template_rows": null,
            "height": null,
            "justify_content": null,
            "justify_items": null,
            "left": null,
            "margin": null,
            "max_height": null,
            "max_width": null,
            "min_height": null,
            "min_width": null,
            "object_fit": null,
            "object_position": null,
            "order": null,
            "overflow": null,
            "overflow_x": null,
            "overflow_y": null,
            "padding": null,
            "right": null,
            "top": null,
            "visibility": null,
            "width": null
          }
        },
        "ae56a420bcee4fb8b66bd0fc1f42281c": {
          "model_module": "@jupyter-widgets/controls",
          "model_name": "ProgressStyleModel",
          "model_module_version": "1.5.0",
          "state": {
            "_model_module": "@jupyter-widgets/controls",
            "_model_module_version": "1.5.0",
            "_model_name": "ProgressStyleModel",
            "_view_count": null,
            "_view_module": "@jupyter-widgets/base",
            "_view_module_version": "1.2.0",
            "_view_name": "StyleView",
            "bar_color": null,
            "description_width": ""
          }
        },
        "1723fd3020fe456eab09b714868ee8f2": {
          "model_module": "@jupyter-widgets/base",
          "model_name": "LayoutModel",
          "model_module_version": "1.2.0",
          "state": {
            "_model_module": "@jupyter-widgets/base",
            "_model_module_version": "1.2.0",
            "_model_name": "LayoutModel",
            "_view_count": null,
            "_view_module": "@jupyter-widgets/base",
            "_view_module_version": "1.2.0",
            "_view_name": "LayoutView",
            "align_content": null,
            "align_items": null,
            "align_self": null,
            "border": null,
            "bottom": null,
            "display": null,
            "flex": null,
            "flex_flow": null,
            "grid_area": null,
            "grid_auto_columns": null,
            "grid_auto_flow": null,
            "grid_auto_rows": null,
            "grid_column": null,
            "grid_gap": null,
            "grid_row": null,
            "grid_template_areas": null,
            "grid_template_columns": null,
            "grid_template_rows": null,
            "height": null,
            "justify_content": null,
            "justify_items": null,
            "left": null,
            "margin": null,
            "max_height": null,
            "max_width": null,
            "min_height": null,
            "min_width": null,
            "object_fit": null,
            "object_position": null,
            "order": null,
            "overflow": null,
            "overflow_x": null,
            "overflow_y": null,
            "padding": null,
            "right": null,
            "top": null,
            "visibility": null,
            "width": null
          }
        },
        "35b7923e771c4015818b030ebf78a9c0": {
          "model_module": "@jupyter-widgets/controls",
          "model_name": "DescriptionStyleModel",
          "model_module_version": "1.5.0",
          "state": {
            "_model_module": "@jupyter-widgets/controls",
            "_model_module_version": "1.5.0",
            "_model_name": "DescriptionStyleModel",
            "_view_count": null,
            "_view_module": "@jupyter-widgets/base",
            "_view_module_version": "1.2.0",
            "_view_name": "StyleView",
            "description_width": ""
          }
        },
        "e75088829f95435e917907c069103009": {
          "model_module": "@jupyter-widgets/controls",
          "model_name": "HBoxModel",
          "model_module_version": "1.5.0",
          "state": {
            "_dom_classes": [],
            "_model_module": "@jupyter-widgets/controls",
            "_model_module_version": "1.5.0",
            "_model_name": "HBoxModel",
            "_view_count": null,
            "_view_module": "@jupyter-widgets/controls",
            "_view_module_version": "1.5.0",
            "_view_name": "HBoxView",
            "box_style": "",
            "children": [
              "IPY_MODEL_f10a12ae1f2945bcb61b9d95d1730941",
              "IPY_MODEL_ca0775c4404a496aab7964574dcc349d",
              "IPY_MODEL_8141c555b96e4df88c506f584838f4b6"
            ],
            "layout": "IPY_MODEL_c712a15cf4564a5195d326cdb456d13a"
          }
        },
        "f10a12ae1f2945bcb61b9d95d1730941": {
          "model_module": "@jupyter-widgets/controls",
          "model_name": "HTMLModel",
          "model_module_version": "1.5.0",
          "state": {
            "_dom_classes": [],
            "_model_module": "@jupyter-widgets/controls",
            "_model_module_version": "1.5.0",
            "_model_name": "HTMLModel",
            "_view_count": null,
            "_view_module": "@jupyter-widgets/controls",
            "_view_module_version": "1.5.0",
            "_view_name": "HTMLView",
            "description": "",
            "description_tooltip": null,
            "layout": "IPY_MODEL_21014587f1e641349b17ae4105a1ef59",
            "placeholder": "​",
            "style": "IPY_MODEL_65045990d63243a3a9a30b1a6924eebf",
            "value": "100%"
          }
        },
        "ca0775c4404a496aab7964574dcc349d": {
          "model_module": "@jupyter-widgets/controls",
          "model_name": "FloatProgressModel",
          "model_module_version": "1.5.0",
          "state": {
            "_dom_classes": [],
            "_model_module": "@jupyter-widgets/controls",
            "_model_module_version": "1.5.0",
            "_model_name": "FloatProgressModel",
            "_view_count": null,
            "_view_module": "@jupyter-widgets/controls",
            "_view_module_version": "1.5.0",
            "_view_name": "ProgressView",
            "bar_style": "success",
            "description": "",
            "description_tooltip": null,
            "layout": "IPY_MODEL_f7f5021691c64adfbb74ab45dc32f7a4",
            "max": 7,
            "min": 0,
            "orientation": "horizontal",
            "style": "IPY_MODEL_852d78e413654683b745c14ec5998405",
            "value": 7
          }
        },
        "8141c555b96e4df88c506f584838f4b6": {
          "model_module": "@jupyter-widgets/controls",
          "model_name": "HTMLModel",
          "model_module_version": "1.5.0",
          "state": {
            "_dom_classes": [],
            "_model_module": "@jupyter-widgets/controls",
            "_model_module_version": "1.5.0",
            "_model_name": "HTMLModel",
            "_view_count": null,
            "_view_module": "@jupyter-widgets/controls",
            "_view_module_version": "1.5.0",
            "_view_name": "HTMLView",
            "description": "",
            "description_tooltip": null,
            "layout": "IPY_MODEL_35794e10d6ec4743a3b8d7450afc5cc4",
            "placeholder": "​",
            "style": "IPY_MODEL_9d22c4ea22794e6c8b0d78832c706f6b",
            "value": " 7/7 [00:00&lt;00:00, 120.39it/s]"
          }
        },
        "c712a15cf4564a5195d326cdb456d13a": {
          "model_module": "@jupyter-widgets/base",
          "model_name": "LayoutModel",
          "model_module_version": "1.2.0",
          "state": {
            "_model_module": "@jupyter-widgets/base",
            "_model_module_version": "1.2.0",
            "_model_name": "LayoutModel",
            "_view_count": null,
            "_view_module": "@jupyter-widgets/base",
            "_view_module_version": "1.2.0",
            "_view_name": "LayoutView",
            "align_content": null,
            "align_items": null,
            "align_self": null,
            "border": null,
            "bottom": null,
            "display": null,
            "flex": null,
            "flex_flow": null,
            "grid_area": null,
            "grid_auto_columns": null,
            "grid_auto_flow": null,
            "grid_auto_rows": null,
            "grid_column": null,
            "grid_gap": null,
            "grid_row": null,
            "grid_template_areas": null,
            "grid_template_columns": null,
            "grid_template_rows": null,
            "height": null,
            "justify_content": null,
            "justify_items": null,
            "left": null,
            "margin": null,
            "max_height": null,
            "max_width": null,
            "min_height": null,
            "min_width": null,
            "object_fit": null,
            "object_position": null,
            "order": null,
            "overflow": null,
            "overflow_x": null,
            "overflow_y": null,
            "padding": null,
            "right": null,
            "top": null,
            "visibility": null,
            "width": null
          }
        },
        "21014587f1e641349b17ae4105a1ef59": {
          "model_module": "@jupyter-widgets/base",
          "model_name": "LayoutModel",
          "model_module_version": "1.2.0",
          "state": {
            "_model_module": "@jupyter-widgets/base",
            "_model_module_version": "1.2.0",
            "_model_name": "LayoutModel",
            "_view_count": null,
            "_view_module": "@jupyter-widgets/base",
            "_view_module_version": "1.2.0",
            "_view_name": "LayoutView",
            "align_content": null,
            "align_items": null,
            "align_self": null,
            "border": null,
            "bottom": null,
            "display": null,
            "flex": null,
            "flex_flow": null,
            "grid_area": null,
            "grid_auto_columns": null,
            "grid_auto_flow": null,
            "grid_auto_rows": null,
            "grid_column": null,
            "grid_gap": null,
            "grid_row": null,
            "grid_template_areas": null,
            "grid_template_columns": null,
            "grid_template_rows": null,
            "height": null,
            "justify_content": null,
            "justify_items": null,
            "left": null,
            "margin": null,
            "max_height": null,
            "max_width": null,
            "min_height": null,
            "min_width": null,
            "object_fit": null,
            "object_position": null,
            "order": null,
            "overflow": null,
            "overflow_x": null,
            "overflow_y": null,
            "padding": null,
            "right": null,
            "top": null,
            "visibility": null,
            "width": null
          }
        },
        "65045990d63243a3a9a30b1a6924eebf": {
          "model_module": "@jupyter-widgets/controls",
          "model_name": "DescriptionStyleModel",
          "model_module_version": "1.5.0",
          "state": {
            "_model_module": "@jupyter-widgets/controls",
            "_model_module_version": "1.5.0",
            "_model_name": "DescriptionStyleModel",
            "_view_count": null,
            "_view_module": "@jupyter-widgets/base",
            "_view_module_version": "1.2.0",
            "_view_name": "StyleView",
            "description_width": ""
          }
        },
        "f7f5021691c64adfbb74ab45dc32f7a4": {
          "model_module": "@jupyter-widgets/base",
          "model_name": "LayoutModel",
          "model_module_version": "1.2.0",
          "state": {
            "_model_module": "@jupyter-widgets/base",
            "_model_module_version": "1.2.0",
            "_model_name": "LayoutModel",
            "_view_count": null,
            "_view_module": "@jupyter-widgets/base",
            "_view_module_version": "1.2.0",
            "_view_name": "LayoutView",
            "align_content": null,
            "align_items": null,
            "align_self": null,
            "border": null,
            "bottom": null,
            "display": null,
            "flex": null,
            "flex_flow": null,
            "grid_area": null,
            "grid_auto_columns": null,
            "grid_auto_flow": null,
            "grid_auto_rows": null,
            "grid_column": null,
            "grid_gap": null,
            "grid_row": null,
            "grid_template_areas": null,
            "grid_template_columns": null,
            "grid_template_rows": null,
            "height": null,
            "justify_content": null,
            "justify_items": null,
            "left": null,
            "margin": null,
            "max_height": null,
            "max_width": null,
            "min_height": null,
            "min_width": null,
            "object_fit": null,
            "object_position": null,
            "order": null,
            "overflow": null,
            "overflow_x": null,
            "overflow_y": null,
            "padding": null,
            "right": null,
            "top": null,
            "visibility": null,
            "width": null
          }
        },
        "852d78e413654683b745c14ec5998405": {
          "model_module": "@jupyter-widgets/controls",
          "model_name": "ProgressStyleModel",
          "model_module_version": "1.5.0",
          "state": {
            "_model_module": "@jupyter-widgets/controls",
            "_model_module_version": "1.5.0",
            "_model_name": "ProgressStyleModel",
            "_view_count": null,
            "_view_module": "@jupyter-widgets/base",
            "_view_module_version": "1.2.0",
            "_view_name": "StyleView",
            "bar_color": null,
            "description_width": ""
          }
        },
        "35794e10d6ec4743a3b8d7450afc5cc4": {
          "model_module": "@jupyter-widgets/base",
          "model_name": "LayoutModel",
          "model_module_version": "1.2.0",
          "state": {
            "_model_module": "@jupyter-widgets/base",
            "_model_module_version": "1.2.0",
            "_model_name": "LayoutModel",
            "_view_count": null,
            "_view_module": "@jupyter-widgets/base",
            "_view_module_version": "1.2.0",
            "_view_name": "LayoutView",
            "align_content": null,
            "align_items": null,
            "align_self": null,
            "border": null,
            "bottom": null,
            "display": null,
            "flex": null,
            "flex_flow": null,
            "grid_area": null,
            "grid_auto_columns": null,
            "grid_auto_flow": null,
            "grid_auto_rows": null,
            "grid_column": null,
            "grid_gap": null,
            "grid_row": null,
            "grid_template_areas": null,
            "grid_template_columns": null,
            "grid_template_rows": null,
            "height": null,
            "justify_content": null,
            "justify_items": null,
            "left": null,
            "margin": null,
            "max_height": null,
            "max_width": null,
            "min_height": null,
            "min_width": null,
            "object_fit": null,
            "object_position": null,
            "order": null,
            "overflow": null,
            "overflow_x": null,
            "overflow_y": null,
            "padding": null,
            "right": null,
            "top": null,
            "visibility": null,
            "width": null
          }
        },
        "9d22c4ea22794e6c8b0d78832c706f6b": {
          "model_module": "@jupyter-widgets/controls",
          "model_name": "DescriptionStyleModel",
          "model_module_version": "1.5.0",
          "state": {
            "_model_module": "@jupyter-widgets/controls",
            "_model_module_version": "1.5.0",
            "_model_name": "DescriptionStyleModel",
            "_view_count": null,
            "_view_module": "@jupyter-widgets/base",
            "_view_module_version": "1.2.0",
            "_view_name": "StyleView",
            "description_width": ""
          }
        }
      }
    }
  },
  "nbformat": 4,
  "nbformat_minor": 5
}